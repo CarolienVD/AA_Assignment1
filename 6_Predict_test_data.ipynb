{
 "cells": [
  {
   "cell_type": "code",
   "execution_count": null,
   "id": "0",
   "metadata": {},
   "outputs": [],
   "source": [
    "import numpy as np\n",
    "import pandas as pd\n",
    "import pickle\n",
    "from sklearn.ensemble import GradientBoostingRegressor\n",
    "from mapie.regression import MapieQuantileRegressor"
   ]
  },
  {
   "cell_type": "code",
   "execution_count": null,
   "id": "1",
   "metadata": {},
   "outputs": [],
   "source": [
    "with open('models/gbr_sklearn_models.pkl', 'rb') as file:\n",
    "    all_models = pickle.load(file)"
   ]
  },
  {
   "cell_type": "code",
   "execution_count": null,
   "id": "2",
   "metadata": {},
   "outputs": [],
   "source": [
    "X_test = pd.read_csv(\"split_data/test_set_preprocessed.csv\")"
   ]
  },
  {
   "cell_type": "code",
   "execution_count": null,
   "id": "3",
   "metadata": {},
   "outputs": [],
   "source": [
    "display(X_test)"
   ]
  },
  {
   "cell_type": "code",
   "execution_count": null,
   "id": "4",
   "metadata": {},
   "outputs": [],
   "source": [
    "ID = X_test['id']\n",
    "X_test = X_test.drop('id', axis = 1)"
   ]
  },
  {
   "cell_type": "code",
   "execution_count": null,
   "id": "5",
   "metadata": {},
   "outputs": [],
   "source": [
    "y_pred = all_models[\"q 0.50\"].predict(X_test)\n",
    "y_lower = all_models[\"q 0.05\"].predict(X_test)\n",
    "y_upper = all_models[\"q 0.95\"].predict(X_test)\n",
    "y_mid = (y_lower + y_upper)/2\n",
    "\n",
    "# y_pred = all_models[\"mae\"].predict(X_test) # does not always fall in interval"
   ]
  },
  {
   "cell_type": "code",
   "execution_count": null,
   "id": "6",
   "metadata": {},
   "outputs": [],
   "source": [
    "# ID,LOWER,UPPER,PRED\n",
    "\n",
    "result = pd.DataFrame()\n",
    "result[\"ID\"] = ID\n",
    "result[\"LOWER\"] = y_lower.round(0).astype(int)\n",
    "result[\"UPPER\"] = y_upper.round(0).astype(int)\n",
    "result[\"PRED\"] = y_pred.round(0).astype(int)"
   ]
  },
  {
   "cell_type": "code",
   "execution_count": null,
   "id": "7",
   "metadata": {},
   "outputs": [],
   "source": [
    "display(result)"
   ]
  },
  {
   "cell_type": "code",
   "execution_count": null,
   "id": "8",
   "metadata": {},
   "outputs": [],
   "source": [
    "invalid_rows = result[~((result['PRED'] >= result['LOWER']) & (result['PRED'] <= result['UPPER']))]\n",
    "display(invalid_rows)"
   ]
  },
  {
   "cell_type": "code",
   "execution_count": null,
   "id": "9",
   "metadata": {},
   "outputs": [],
   "source": [
    "result[\"MID\"] = y_mid.round(0).astype(int)\n",
    "\n",
    "result['PRED'] = np.where((result['PRED'] >= result['LOWER']) & (result['PRED'] <= result['UPPER']), result['PRED'], result['MID'])\n",
    "result = result.drop('MID', axis = 1)\n",
    "display(result)"
   ]
  },
  {
   "cell_type": "code",
   "execution_count": null,
   "id": "10",
   "metadata": {},
   "outputs": [],
   "source": [
    "invalid_rows = result[~((result['PRED'] >= result['LOWER']) & (result['PRED'] <= result['UPPER']))]\n",
    "display(invalid_rows)"
   ]
  },
  {
   "cell_type": "code",
   "execution_count": null,
   "id": "11",
   "metadata": {},
   "outputs": [],
   "source": [
    "# Swap LOWER and UPPER where needed\n",
    "\n",
    "result.loc[result['LOWER'] > result['UPPER'], ['LOWER', 'UPPER']] = result.loc[result['LOWER'] > result['UPPER'], ['UPPER', 'LOWER']].values"
   ]
  },
  {
   "cell_type": "code",
   "execution_count": null,
   "id": "12",
   "metadata": {},
   "outputs": [],
   "source": [
    "invalid_rows = result[~((result['PRED'] >= result['LOWER']) & (result['PRED'] <= result['UPPER']))]\n",
    "display(invalid_rows)"
   ]
  },
  {
   "cell_type": "code",
   "execution_count": null,
   "id": "13",
   "metadata": {},
   "outputs": [],
   "source": [
    "display(result)"
   ]
  },
  {
   "cell_type": "code",
   "execution_count": null,
   "id": "14",
   "metadata": {},
   "outputs": [],
   "source": [
    "result.to_csv('result/aa1_42_attempt1.csv', index = False)"
   ]
  },
  {
   "cell_type": "markdown",
   "id": "15",
   "metadata": {},
   "source": [
    "## With lat/lon instead of province"
   ]
  },
  {
   "cell_type": "code",
   "execution_count": null,
   "id": "16",
   "metadata": {},
   "outputs": [],
   "source": [
    "with open('models/gbr_sklearn_models_2.pkl', 'rb') as file:\n",
    "    all_models = pickle.load(file)"
   ]
  },
  {
   "cell_type": "code",
   "execution_count": null,
   "id": "17",
   "metadata": {},
   "outputs": [],
   "source": [
    "X_test_2 = pd.read_csv(\"split_data/test_set_preprocessed_2.csv\")"
   ]
  },
  {
   "cell_type": "code",
   "execution_count": null,
   "id": "18",
   "metadata": {},
   "outputs": [],
   "source": [
    "ID = X_test_2['id']\n",
    "X_test_2 = X_test_2.drop('id', axis = 1)"
   ]
  },
  {
   "cell_type": "code",
   "execution_count": null,
   "id": "19",
   "metadata": {},
   "outputs": [],
   "source": [
    "y_pred = all_models[\"q 0.50\"].predict(X_test_2)\n",
    "y_lower = all_models[\"q 0.05\"].predict(X_test_2)\n",
    "y_upper = all_models[\"q 0.95\"].predict(X_test_2)\n",
    "y_mid = (y_lower + y_upper)/2"
   ]
  },
  {
   "cell_type": "code",
   "execution_count": null,
   "id": "20",
   "metadata": {},
   "outputs": [],
   "source": [
    "# ID,LOWER,UPPER,PRED\n",
    "\n",
    "result = pd.DataFrame()\n",
    "result[\"ID\"] = ID\n",
    "result[\"LOWER\"] = y_lower.round(0).astype(int)\n",
    "result[\"UPPER\"] = y_upper.round(0).astype(int)\n",
    "result[\"PRED\"] = y_pred.round(0).astype(int)"
   ]
  },
  {
   "cell_type": "code",
   "execution_count": null,
   "id": "21",
   "metadata": {},
   "outputs": [],
   "source": [
    "invalid_rows = result[~((result['PRED'] >= result['LOWER']) & (result['PRED'] <= result['UPPER']))]\n",
    "display(invalid_rows)"
   ]
  },
  {
   "cell_type": "code",
   "execution_count": null,
   "id": "22",
   "metadata": {},
   "outputs": [],
   "source": [
    "result[\"MID\"] = y_mid.round(0).astype(int)\n",
    "\n",
    "result['PRED'] = np.where((result['PRED'] >= result['LOWER']) & (result['PRED'] <= result['UPPER']), result['PRED'], result['MID'])\n",
    "result = result.drop('MID', axis = 1)\n",
    "display(result)"
   ]
  },
  {
   "cell_type": "code",
   "execution_count": null,
   "id": "23",
   "metadata": {},
   "outputs": [],
   "source": [
    "invalid_rows = result[~((result['PRED'] >= result['LOWER']) & (result['PRED'] <= result['UPPER']))]\n",
    "display(invalid_rows)"
   ]
  },
  {
   "cell_type": "code",
   "execution_count": null,
   "id": "24",
   "metadata": {},
   "outputs": [],
   "source": [
    "# Swap LOWER and UPPER where needed\n",
    "\n",
    "result.loc[result['LOWER'] > result['UPPER'], ['LOWER', 'UPPER']] = result.loc[result['LOWER'] > result['UPPER'], ['UPPER', 'LOWER']].values"
   ]
  },
  {
   "cell_type": "code",
   "execution_count": null,
   "id": "25",
   "metadata": {},
   "outputs": [],
   "source": [
    "invalid_rows = result[~((result['PRED'] >= result['LOWER']) & (result['PRED'] <= result['UPPER']))]\n",
    "display(invalid_rows)"
   ]
  },
  {
   "cell_type": "code",
   "execution_count": null,
   "id": "26",
   "metadata": {},
   "outputs": [],
   "source": [
    "display(result)"
   ]
  },
  {
   "cell_type": "code",
   "execution_count": null,
   "id": "27",
   "metadata": {},
   "outputs": [],
   "source": [
    "result.to_csv('result/aa1_42_attempt2.csv', index = False)"
   ]
  },
  {
   "cell_type": "code",
   "execution_count": null,
   "id": "28",
   "metadata": {},
   "outputs": [],
   "source": []
  }
 ],
 "metadata": {
  "kernelspec": {
   "display_name": "Python 3 (ipykernel)",
   "language": "python",
   "name": "python3"
  },
  "language_info": {
   "codemirror_mode": {
    "name": "ipython",
    "version": 3
   },
   "file_extension": ".py",
   "mimetype": "text/x-python",
   "name": "python",
   "nbconvert_exporter": "python",
   "pygments_lexer": "ipython3",
   "version": "3.12.4"
  }
 },
 "nbformat": 4,
 "nbformat_minor": 5
}
