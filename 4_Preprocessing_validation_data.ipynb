{
 "cells": [
  {
   "cell_type": "code",
   "execution_count": null,
   "id": "0",
   "metadata": {},
   "outputs": [],
   "source": [
    "import pandas as pd\n",
    "import numpy as np\n",
    "import pickle\n",
    "from sklearn.model_selection import train_test_split\n",
    "from ydata_profiling import ProfileReport"
   ]
  },
  {
   "cell_type": "code",
   "execution_count": null,
   "id": "1",
   "metadata": {},
   "outputs": [],
   "source": [
    "pd.set_option('display.max_columns', None) # show all columns in a df"
   ]
  },
  {
   "cell_type": "code",
   "execution_count": null,
   "id": "2",
   "metadata": {},
   "outputs": [],
   "source": [
    "X_val = pd.read_csv(\"split_data/val_features.csv\")\n",
    "y_val = pd.read_csv(\"split_data/val_target.csv\")"
   ]
  },
  {
   "cell_type": "code",
   "execution_count": null,
   "id": "3",
   "metadata": {},
   "outputs": [],
   "source": [
    "df_val = pd.concat([X_val, y_val], axis = 1)"
   ]
  },
  {
   "cell_type": "code",
   "execution_count": null,
   "id": "4",
   "metadata": {},
   "outputs": [],
   "source": [
    "df_val.shape"
   ]
  },
  {
   "cell_type": "code",
   "execution_count": null,
   "id": "5",
   "metadata": {},
   "outputs": [],
   "source": [
    "# df_val['row_prop_missing'] = df_val.isna().mean(axis=1) # Not ok to already calculate here - some are missing by design (e.g. sticker)"
   ]
  },
  {
   "cell_type": "code",
   "execution_count": null,
   "id": "6",
   "metadata": {},
   "outputs": [],
   "source": [
    "df_val.head()"
   ]
  },
  {
   "cell_type": "code",
   "execution_count": null,
   "id": "7",
   "metadata": {},
   "outputs": [],
   "source": [
    "profile = ProfileReport(df_val)"
   ]
  },
  {
   "cell_type": "code",
   "execution_count": null,
   "id": "8",
   "metadata": {},
   "outputs": [],
   "source": [
    "profile.to_notebook_iframe()"
   ]
  },
  {
   "cell_type": "markdown",
   "id": "9",
   "metadata": {},
   "source": [
    "## Rows with many NAs"
   ]
  },
  {
   "cell_type": "code",
   "execution_count": null,
   "id": "10",
   "metadata": {},
   "outputs": [],
   "source": [
    "# display(df_val[df_val['row_prop_missing'] > .10])"
   ]
  },
  {
   "cell_type": "markdown",
   "id": "11",
   "metadata": {},
   "source": [
    "## Duplicate rows"
   ]
  },
  {
   "cell_type": "markdown",
   "id": "12",
   "metadata": {},
   "source": [
    "## Subtype"
   ]
  },
  {
   "cell_type": "markdown",
   "id": "13",
   "metadata": {},
   "source": [
    "Observations / remarks:\n",
    "- Missing values are partly houses and partly appartments -> can be assigned accordingly\n",
    "- There are synonyms -> can be grouped together\n",
    "- 'Andere' is never an appartment\n",
    "- Group infrequent levels together? Reduce dimensionality (but: not really necessary for DT-based approach?)\n",
    "- Perform clustering a.o. on price to reduce number of levels?"
   ]
  },
  {
   "cell_type": "code",
   "execution_count": null,
   "id": "14",
   "metadata": {},
   "outputs": [],
   "source": [
    "pd.crosstab(df_val['subtype'], df_val['is_appartment'], dropna=False)"
   ]
  },
  {
   "cell_type": "code",
   "execution_count": null,
   "id": "15",
   "metadata": {},
   "outputs": [],
   "source": [
    "with open('intermediate_data/map_infrequent_subtypes.pkl', 'rb') as file:\n",
    "    map_infrequent_subtypes = pickle.load(file)\n",
    "\n",
    "df_val['subtype_regrouped'] = df_val['subtype'].apply(lambda x: 'Andere' if x in map_infrequent_subtypes else x) # remove this step?"
   ]
  },
  {
   "cell_type": "code",
   "execution_count": null,
   "id": "16",
   "metadata": {},
   "outputs": [],
   "source": [
    "map_synonyms = {\n",
    "    'Assistentie-appartement': 'Serviceflat',\n",
    "    'Villa-landhuis': 'Villa',\n",
    "    'Moderne villa': 'Villa',\n",
    "    'Eengezinswoning': 'Woning',    \n",
    "    # 'Herenwoning': 'Herenhuis',\n",
    "    # 'Dakappartement': 'Penthouse',\n",
    "    'Studio met slaaphoek': 'Studio',\n",
    "\n",
    "    # 'Rijwoning': 'Woning',\n",
    "    'Gelijkvloers app.': 'Appartement',\n",
    "    'Uitzonderlijke woning': 'Villa',\n",
    "    'Herenwoning': 'Villa',\n",
    "    'Herenhuis': 'Villa',\n",
    "    'Burgerswoning': 'Woning',\n",
    "    'Koppelwoning': 'Woning',\n",
    "    'Duplex': 'Appartement',\n",
    "    'Triplex': 'Appartement',\n",
    "    'Bungalow': 'Woning',\n",
    "    'Hoeve': 'Villa',\n",
    "    'Fermette': 'Woning',\n",
    "    'Bel-étage': 'Woning',\n",
    "    'Hoekwoning': 'Woning',\n",
    "    'Pastorijwoning': 'Woning',\n",
    "    'Arbeiderswoning': 'Woning',\n",
    "    'Loft': 'Loft Penthouse',\n",
    "    'Dakappartement': 'Appartement',\n",
    "    'Penthouse': 'Loft Penthouse',\n",
    "    'Chalet': 'Andere',\n",
    "    'Cottage': 'Andere',\n",
    "    'Vakantiewoning': 'Andere',\n",
    "    'Gemengd gebruik': 'Andere',\n",
    "    'Woonboot': 'Andere' # To do: implement solution for new building types not seen in training data -> should become Other\n",
    "    \n",
    "    \n",
    "}\n",
    "\n",
    "df_val['subtype_regrouped'] = df_val['subtype_regrouped'].replace(map_synonyms)\n",
    "df_val['subtype_regrouped'] = df_val['subtype_regrouped'].fillna('Andere')\n",
    "\n",
    "df_val['subtype_regrouped'].value_counts()"
   ]
  },
  {
   "cell_type": "code",
   "execution_count": null,
   "id": "17",
   "metadata": {},
   "outputs": [],
   "source": [
    "with open('intermediate_data/subtype_median_price.pkl', 'rb') as file:\n",
    "    subtype_median_price = pickle.load(file)"
   ]
  },
  {
   "cell_type": "code",
   "execution_count": null,
   "id": "18",
   "metadata": {},
   "outputs": [],
   "source": []
  },
  {
   "cell_type": "code",
   "execution_count": null,
   "id": "19",
   "metadata": {},
   "outputs": [],
   "source": []
  },
  {
   "cell_type": "code",
   "execution_count": null,
   "id": "20",
   "metadata": {},
   "outputs": [],
   "source": [
    "df_val = pd.merge(df_val, subtype_median_price, how = 'left', on = 'subtype_regrouped')\n",
    "display(df_val)"
   ]
  },
  {
   "cell_type": "markdown",
   "id": "21",
   "metadata": {},
   "source": [
    "## Area"
   ]
  },
  {
   "cell_type": "markdown",
   "id": "22",
   "metadata": {},
   "source": [
    "Impute area with median value for subtype (regrouped) and province"
   ]
  },
  {
   "cell_type": "code",
   "execution_count": null,
   "id": "23",
   "metadata": {},
   "outputs": [],
   "source": [
    "df_val['area_missing'] = df_val['area'].isna().astype(int)"
   ]
  },
  {
   "cell_type": "code",
   "execution_count": null,
   "id": "24",
   "metadata": {},
   "outputs": [],
   "source": [
    "with open('intermediate_data/median_area.pkl', 'rb') as file:\n",
    "    median_area = pickle.load(file)\n",
    "\n",
    "with open('intermediate_data/median_area_bedrooms.pkl', 'rb') as file:\n",
    "    median_area_bedrooms = pickle.load(file)"
   ]
  },
  {
   "cell_type": "code",
   "execution_count": null,
   "id": "25",
   "metadata": {},
   "outputs": [],
   "source": [
    "df_val['area_imputed1'] = df_val.apply(\n",
    "    lambda row: median_area_bedrooms.get((row['subtype_regrouped'], row['bedrooms']), row['area']) if pd.isna(row['area']) else row['area'],\n",
    "    axis=1\n",
    ")\n",
    "df_val['area_imputed2'] = df_val.apply(\n",
    "    lambda row: median_area.get((row['subtype_regrouped']), row['area']) if pd.isna(row['area']) else row['area'],\n",
    "    axis=1\n",
    ")\n",
    "\n",
    "df_val['area_imputed'] = df_val['area_imputed1'].combine_first(df_val['area_imputed2'])\n",
    "\n",
    "df_val.drop(['area_imputed1', 'area_imputed2'], axis = 1)"
   ]
  },
  {
   "cell_type": "code",
   "execution_count": null,
   "id": "26",
   "metadata": {},
   "outputs": [],
   "source": [
    "df_val['area_rel_to_bedrooms'] = df_val['area_imputed'] / (df_val['bedrooms'] + 1)"
   ]
  },
  {
   "cell_type": "markdown",
   "id": "27",
   "metadata": {},
   "source": [
    "## Energy value"
   ]
  },
  {
   "cell_type": "code",
   "execution_count": null,
   "id": "28",
   "metadata": {},
   "outputs": [],
   "source": [
    "# Keep only first letter of energy label, except for 'a+'\n",
    "\n",
    "df_val['energy_label_regrouped'] = df_val['energy_label'].apply(lambda x: x[0] if isinstance(x, str) and x != 'a+' and x != 'a+' else x)"
   ]
  },
  {
   "cell_type": "code",
   "execution_count": null,
   "id": "29",
   "metadata": {},
   "outputs": [],
   "source": [
    "pd.crosstab(df_val['energy_label_regrouped'], df_val['new_building'], dropna=False)"
   ]
  },
  {
   "cell_type": "markdown",
   "id": "30",
   "metadata": {},
   "source": [
    "For f and g not ok: normally label A corresponds to values 0-100, B to 101-200, etc."
   ]
  },
  {
   "cell_type": "code",
   "execution_count": null,
   "id": "31",
   "metadata": {},
   "outputs": [],
   "source": [
    "df_val['energy_value_missing'] = df_val['energy_value'].isna().astype(int)"
   ]
  },
  {
   "cell_type": "code",
   "execution_count": null,
   "id": "32",
   "metadata": {},
   "outputs": [],
   "source": [
    "with open('intermediate_data/median_energy.pkl', 'rb') as file:\n",
    "    median_energy = pickle.load(file)\n",
    "\n",
    "df_val['energy_value_imputed'] = df_val.apply(\n",
    "    lambda row: median_energy.get((row['energy_label_regrouped'], row['new_building'], row['subtype_regrouped']), row['energy_value']) if pd.isna(row['energy_value']) else row['energy_value'],\n",
    "    axis=1\n",
    ")"
   ]
  },
  {
   "cell_type": "code",
   "execution_count": null,
   "id": "33",
   "metadata": {},
   "outputs": [],
   "source": [
    "# Now all rows except for the ones where the energy label is also missing have an energy value\n",
    "\n",
    "df_val['energy_value_imputed'].value_counts(dropna = False)"
   ]
  },
  {
   "cell_type": "code",
   "execution_count": null,
   "id": "34",
   "metadata": {},
   "outputs": [],
   "source": [
    "df_val.groupby(['subtype_regrouped', 'new_building'])['energy_value'].median()"
   ]
  },
  {
   "cell_type": "code",
   "execution_count": null,
   "id": "35",
   "metadata": {},
   "outputs": [],
   "source": [
    "with open('intermediate_data/median_energy_wo_label.pkl', 'rb') as file:\n",
    "    median_energy_wo_label = pickle.load(file)\n",
    "\n",
    "df_val['energy_value_imputed'] = df_val.apply(\n",
    "    lambda row: median_energy_wo_label.get((row['new_building'], row['subtype_regrouped']), row['energy_value']) if pd.isna(row['energy_value_imputed']) else row['energy_value_imputed'],\n",
    "    axis=1\n",
    ")"
   ]
  },
  {
   "cell_type": "code",
   "execution_count": null,
   "id": "36",
   "metadata": {},
   "outputs": [],
   "source": [
    "# All NAs imputed\n",
    "\n",
    "df_val['energy_value_imputed'].value_counts(dropna = False)"
   ]
  },
  {
   "cell_type": "markdown",
   "id": "37",
   "metadata": {},
   "source": [
    "## Advertiser"
   ]
  },
  {
   "cell_type": "markdown",
   "id": "38",
   "metadata": {},
   "source": [
    "High number of categories - apply something similar to Weights Of Evidence (= for classification problems)\n",
    "\n",
    "Note: some advertisers occur only once and seem to have a person's name (not a real estate agency) -> also informative\n",
    "\n",
    "Make bins of advertisers based on how often they occur (only once (category 5: person) vs. more (categories 1-4: agency)) and their median price.\n",
    "Category 5: only occurs once, so no relevant information on 'typical' pricing; this advertiser will (normally) not occur in the test set either \n",
    "Catgories 1-4: occurs more than once, categorize based on median price "
   ]
  },
  {
   "cell_type": "code",
   "execution_count": null,
   "id": "39",
   "metadata": {},
   "outputs": [],
   "source": [
    "df_val['advertiser'].value_counts(dropna = False).head(50) "
   ]
  },
  {
   "cell_type": "code",
   "execution_count": null,
   "id": "40",
   "metadata": {},
   "outputs": [],
   "source": [
    "with open('intermediate_data/median_price_advertiser.pkl', 'rb') as file:\n",
    "    median_price_advertiser = pickle.load(file)"
   ]
  },
  {
   "cell_type": "code",
   "execution_count": null,
   "id": "41",
   "metadata": {},
   "outputs": [],
   "source": []
  },
  {
   "cell_type": "code",
   "execution_count": null,
   "id": "42",
   "metadata": {},
   "outputs": [],
   "source": [
    "df_val = pd.merge(df_val, median_price_advertiser, how='left', on='advertiser')\n",
    "display(df_val)"
   ]
  },
  {
   "cell_type": "code",
   "execution_count": null,
   "id": "43",
   "metadata": {},
   "outputs": [],
   "source": [
    "df_val['advertiser_count'] = df_val['advertiser_count'].fillna(1)"
   ]
  },
  {
   "cell_type": "code",
   "execution_count": null,
   "id": "44",
   "metadata": {},
   "outputs": [],
   "source": [
    "df_val['advertiser_bin'].value_counts(dropna = False)"
   ]
  },
  {
   "cell_type": "code",
   "execution_count": null,
   "id": "45",
   "metadata": {},
   "outputs": [],
   "source": [
    "df_val['advertiser_bin'].value_counts(dropna = False)"
   ]
  },
  {
   "cell_type": "code",
   "execution_count": null,
   "id": "46",
   "metadata": {},
   "outputs": [],
   "source": [
    "df_val['advertiser_bin'] = np.where(pd.isna(df_val['advertiser_bin']), 5, df_val['advertiser_bin'])"
   ]
  },
  {
   "cell_type": "code",
   "execution_count": null,
   "id": "47",
   "metadata": {},
   "outputs": [],
   "source": [
    "df_val['advertiser_bin'].value_counts(dropna = False)"
   ]
  },
  {
   "cell_type": "code",
   "execution_count": null,
   "id": "48",
   "metadata": {},
   "outputs": [],
   "source": [
    "with open('intermediate_data/median_price_per_advertiser_bin.pkl', 'rb') as file:\n",
    "    median_price_per_advertiser_bin = pickle.load(file)"
   ]
  },
  {
   "cell_type": "code",
   "execution_count": null,
   "id": "49",
   "metadata": {},
   "outputs": [],
   "source": [
    "df_val = pd.merge(df_val, median_price_per_advertiser_bin, how='left', on='advertiser_bin')\n",
    "df_val.head()"
   ]
  },
  {
   "cell_type": "markdown",
   "id": "50",
   "metadata": {},
   "source": [
    "## Regional prices - Statbel"
   ]
  },
  {
   "cell_type": "code",
   "execution_count": null,
   "id": "51",
   "metadata": {},
   "outputs": [],
   "source": [
    "with open('intermediate_data/map_nis_deduplicated.pkl', 'rb') as file:\n",
    "    df_map_nis_deduplicated = pickle.load(file)"
   ]
  },
  {
   "cell_type": "code",
   "execution_count": null,
   "id": "52",
   "metadata": {},
   "outputs": [],
   "source": [
    "df_val = pd.merge(df_val, df_map_nis_deduplicated, how='left', left_on='postcode', right_on = 'zip_code')\n",
    "display(df_val)"
   ]
  },
  {
   "cell_type": "code",
   "execution_count": null,
   "id": "53",
   "metadata": {},
   "outputs": [],
   "source": [
    "with open('intermediate_data/statbel_prices_selection.pkl', 'rb') as file:\n",
    "    df_statbel_prices_selection = pickle.load(file)"
   ]
  },
  {
   "cell_type": "code",
   "execution_count": null,
   "id": "54",
   "metadata": {},
   "outputs": [],
   "source": [
    "df_val = pd.merge(df_val, df_statbel_prices_selection, how='left', left_on=['nis_code', 'is_appartment'], right_on = ['CD_REFNIS', 'F_APPARTMENT'])"
   ]
  },
  {
   "cell_type": "code",
   "execution_count": null,
   "id": "55",
   "metadata": {},
   "outputs": [],
   "source": [
    "display(df_val)"
   ]
  },
  {
   "cell_type": "code",
   "execution_count": null,
   "id": "56",
   "metadata": {},
   "outputs": [],
   "source": [
    "# Still quite some missings, whereas profiling below suggests it's a highly relevant feature\n",
    "\n",
    "df_val['MS_P_50_median'].isna().sum()"
   ]
  },
  {
   "cell_type": "code",
   "execution_count": null,
   "id": "57",
   "metadata": {},
   "outputs": [],
   "source": [
    "with open('intermediate_data/price_lookup_zipcode.pkl', 'rb') as file:\n",
    "    price_lookup_zipcode = pickle.load(file)"
   ]
  },
  {
   "cell_type": "code",
   "execution_count": null,
   "id": "58",
   "metadata": {},
   "outputs": [],
   "source": [
    "df_val[\"zip_code_first2\"] = df_val.postcode.astype(str).str[:2]\n",
    "\n",
    "df_val[\"MS_P_50_median_imputed\"] = df_val.apply(\n",
    "    lambda row: price_lookup_zipcode.get(\n",
    "        (row[\"zip_code_first2\"], row[\"is_appartment\"]),\n",
    "        row[\"MS_P_50_median\"]\n",
    "    ) if pd.isna(row[\"MS_P_50_median\"]) else row[\"MS_P_50_median\"],\n",
    "    axis=1\n",
    ")"
   ]
  },
  {
   "cell_type": "code",
   "execution_count": null,
   "id": "59",
   "metadata": {},
   "outputs": [],
   "source": [
    "with open('intermediate_data/price_lookup_province.pkl', 'rb') as file:\n",
    "    price_lookup_province = pickle.load(file)"
   ]
  },
  {
   "cell_type": "code",
   "execution_count": null,
   "id": "60",
   "metadata": {},
   "outputs": [],
   "source": [
    "df_val[\"zip_code_first1\"] = df_val.postcode.astype(str).str[:1]\n",
    "\n",
    "df_val[\"MS_P_50_median_imputed\"] = df_val.apply(\n",
    "    lambda row: price_lookup_province.get(\n",
    "        (row[\"zip_code_first1\"], row[\"is_appartment\"]),\n",
    "        row[\"MS_P_50_median\"]\n",
    "    ) if pd.isna(row[\"MS_P_50_median_imputed\"]) else row[\"MS_P_50_median_imputed\"],\n",
    "    axis=1\n",
    ")"
   ]
  },
  {
   "cell_type": "code",
   "execution_count": null,
   "id": "61",
   "metadata": {},
   "outputs": [],
   "source": [
    "df_val[df_val['MS_P_50_median_imputed'].isna()]"
   ]
  },
  {
   "cell_type": "markdown",
   "id": "62",
   "metadata": {},
   "source": [
    "## Regional prices - Price per area "
   ]
  },
  {
   "cell_type": "code",
   "execution_count": null,
   "id": "63",
   "metadata": {},
   "outputs": [],
   "source": [
    "with open('intermediate_data/price_per_area_per_region.pkl', 'rb') as file:\n",
    "    price_per_area_per_region = pickle.load(file)"
   ]
  },
  {
   "cell_type": "code",
   "execution_count": null,
   "id": "64",
   "metadata": {},
   "outputs": [],
   "source": [
    "with open('intermediate_data/price_per_area_per_region_2.pkl', 'rb') as file:\n",
    "    price_per_area_per_region_2 = pickle.load(file)"
   ]
  },
  {
   "cell_type": "code",
   "execution_count": null,
   "id": "65",
   "metadata": {},
   "outputs": [],
   "source": [
    "df_val = pd.merge(df_val, price_per_area_per_region, how = 'left', on = 'zip_code_first2')\n",
    "\n",
    "df_val[\"zip_code_first3\"] = df_val.postcode.astype(str).str[:3]\n",
    "df_val = pd.merge(df_val, price_per_area_per_region_2, how = 'left', on = 'zip_code_first3')"
   ]
  },
  {
   "cell_type": "markdown",
   "id": "66",
   "metadata": {},
   "source": [
    "## Regional prices - replace Statbel"
   ]
  },
  {
   "cell_type": "code",
   "execution_count": null,
   "id": "67",
   "metadata": {},
   "outputs": [],
   "source": [
    "with open('intermediate_data/price_per_area_type_zipcode.pkl', 'rb') as file:\n",
    "    price_per_area_type_zipcode = pickle.load(file)\n",
    "\n",
    "with open('intermediate_data/price_per_area_type_zipcodefirst3.pkl', 'rb') as file:\n",
    "    price_per_area_type_zipcodefirst3 = pickle.load(file)\n",
    "\n",
    "with open('intermediate_data/price_per_area_type_zipcodefirst2.pkl', 'rb') as file:\n",
    "    price_per_area_type_zipcodefirst2 = pickle.load(file)\n",
    "\n",
    "with open('intermediate_data/price_per_area_type_zipcodefirst1.pkl', 'rb') as file:\n",
    "    price_per_area_type_zipcodefirst1 = pickle.load(file)"
   ]
  },
  {
   "cell_type": "code",
   "execution_count": null,
   "id": "68",
   "metadata": {},
   "outputs": [],
   "source": [
    "df_val[\"postcode_first3\"] = df_val.postcode.astype(str).str[:3]\n",
    "df_val[\"postcode_first2\"] = df_val.postcode.astype(str).str[:2]\n",
    "df_val[\"postcode_first1\"] = df_val.postcode.astype(str).str[:1]\n",
    "\n",
    "df_val = pd.merge(df_val, price_per_area_type_zipcode, how = 'left', on = ['postcode', 'is_appartment'])\n",
    "df_val = pd.merge(df_val, price_per_area_type_zipcodefirst3, how = 'left', on = ['postcode_first3', 'is_appartment'])\n",
    "df_val = pd.merge(df_val, price_per_area_type_zipcodefirst2, how = 'left', on = ['postcode_first2', 'is_appartment'])\n",
    "df_val = pd.merge(df_val, price_per_area_type_zipcodefirst1, how = 'left', on = ['postcode_first1', 'is_appartment'])\n",
    "df_val['price_per_area_type_region'] = df_val['price_per_area_type_zipcode'].\\\n",
    "combine_first(df_val['price_per_area_type_zipcodefirst3']).\\\n",
    "combine_first(df_val['price_per_area_type_zipcodefirst2']).\\\n",
    "combine_first(df_val['price_per_area_type_zipcodefirst1'])\n",
    "display(df_val[df_val['price_per_area_type_zipcode'].isna()])"
   ]
  },
  {
   "cell_type": "markdown",
   "id": "69",
   "metadata": {},
   "source": [
    "## Lat / Lon"
   ]
  },
  {
   "cell_type": "code",
   "execution_count": null,
   "id": "70",
   "metadata": {},
   "outputs": [],
   "source": [
    "df_val['lat_missing'] = df_val['lat'].isna().astype(int)\n",
    "df_val['lon_missing'] = df_val['lon'].isna().astype(int)"
   ]
  },
  {
   "cell_type": "code",
   "execution_count": null,
   "id": "71",
   "metadata": {},
   "outputs": [],
   "source": [
    "with open('intermediate_data/mean_lat.pkl', 'rb') as file:\n",
    "    mean_lat = pickle.load(file)\n",
    "with open('intermediate_data/mean_lon.pkl', 'rb') as file:\n",
    "    mean_lon = pickle.load(file)"
   ]
  },
  {
   "cell_type": "code",
   "execution_count": null,
   "id": "72",
   "metadata": {},
   "outputs": [],
   "source": [
    "df_val['lat_imputed'] = df_val.apply(\n",
    "    lambda row: mean_lat.get((row['province']), row['lat']) if pd.isna(row['lat']) else row['lat'],\n",
    "    axis=1\n",
    ")\n",
    "\n",
    "df_val['lon_imputed'] = df_val.apply(\n",
    "    lambda row: mean_lon.get((row['province']), row['lon']) if pd.isna(row['lon']) else row['lon'],\n",
    "    axis=1\n",
    ")"
   ]
  },
  {
   "cell_type": "markdown",
   "id": "73",
   "metadata": {},
   "source": [
    "## Price drop flag"
   ]
  },
  {
   "cell_type": "code",
   "execution_count": null,
   "id": "74",
   "metadata": {},
   "outputs": [],
   "source": []
  },
  {
   "cell_type": "code",
   "execution_count": null,
   "id": "75",
   "metadata": {},
   "outputs": [],
   "source": [
    "df_val['price_dropped'] = abs(df_val['price_drop_date'].isna().astype(int) - 1)\n",
    "display(df_val)"
   ]
  },
  {
   "cell_type": "markdown",
   "id": "76",
   "metadata": {},
   "source": [
    "## Zipcode last digits"
   ]
  },
  {
   "cell_type": "code",
   "execution_count": null,
   "id": "77",
   "metadata": {},
   "outputs": [],
   "source": [
    "df_val[\"postcode_last3\"] = df_val.postcode.astype(str).str[1:] \n",
    "df_val[\"postcode_last2\"] = df_val.postcode.astype(str).str[2:]\n",
    "df_val[\"postcode_last3_0\"] = (df_val[\"postcode_last3\"] == '000').astype('int')\n",
    "df_val[\"postcode_last2_0\"] = ((df_val[\"postcode_last3\"] != '000') & (df_val[\"postcode_last2\"] == '00')).astype('int')"
   ]
  },
  {
   "cell_type": "markdown",
   "id": "78",
   "metadata": {},
   "source": [
    "## Profile again"
   ]
  },
  {
   "cell_type": "code",
   "execution_count": null,
   "id": "79",
   "metadata": {},
   "outputs": [],
   "source": [
    "# Leave out percentiles 25 and 75 for prices per NIS code because of multicollinearity\n",
    "# Leave out row count because it's not available when making a single prediction and has low predictive power (it's usually just 1)\n",
    "\n",
    "# df_val_sel = df_val[['bedrooms', 'new_building', 'foto_amount', 'province', 'subtype_regrouped', 'area_missing', 'area_imputed', 'area_rel_to_bedrooms', 'energy_value_missing', 'energy_value_imputed', 'advertiser_count', 'median_price_advertiser_bin', 'MS_TOTAL_TRANSACTIONS', 'MS_P_50_median_imputed', 'price']].drop_duplicates()"
   ]
  },
  {
   "cell_type": "code",
   "execution_count": null,
   "id": "80",
   "metadata": {},
   "outputs": [],
   "source": [
    "df_val_sel = df_val[['new_building', 'foto_amount', 'province', 'subtype_median_price', 'area_missing', 'area_imputed', 'energy_value_missing', 'energy_value_imputed', 'advertiser_count', 'median_price_advertiser_bin', 'MS_P_50_median_imputed', 'median_price_per_area', 'price']].drop_duplicates()"
   ]
  },
  {
   "cell_type": "code",
   "execution_count": null,
   "id": "81",
   "metadata": {},
   "outputs": [],
   "source": [
    "profile_sel = ProfileReport(df_val_sel)"
   ]
  },
  {
   "cell_type": "code",
   "execution_count": null,
   "id": "82",
   "metadata": {},
   "outputs": [],
   "source": []
  },
  {
   "cell_type": "code",
   "execution_count": null,
   "id": "83",
   "metadata": {},
   "outputs": [],
   "source": [
    "profile_sel.to_notebook_iframe()"
   ]
  },
  {
   "cell_type": "markdown",
   "id": "84",
   "metadata": {},
   "source": [
    "## Final variable selection and encoding"
   ]
  },
  {
   "cell_type": "code",
   "execution_count": null,
   "id": "85",
   "metadata": {},
   "outputs": [],
   "source": [
    "display(df_val_sel)"
   ]
  },
  {
   "cell_type": "code",
   "execution_count": null,
   "id": "86",
   "metadata": {},
   "outputs": [],
   "source": [
    "# df_val_sel = df_val_sel[df_val_sel['price'] < 500000]"
   ]
  },
  {
   "cell_type": "code",
   "execution_count": null,
   "id": "87",
   "metadata": {},
   "outputs": [],
   "source": [
    "# X_val_preprocessed = df_val_sel.drop('price', axis = 1)\n",
    "# X_val_preprocessed = pd.get_dummies(X_val_preprocessed, columns=['subtype_regrouped', 'province'], drop_first=True)"
   ]
  },
  {
   "cell_type": "code",
   "execution_count": null,
   "id": "88",
   "metadata": {},
   "outputs": [],
   "source": [
    "X_val_preprocessed = df_val_sel.drop('price', axis = 1)\n",
    "X_val_preprocessed = pd.get_dummies(X_val_preprocessed, columns=['province'], drop_first=True)"
   ]
  },
  {
   "cell_type": "code",
   "execution_count": null,
   "id": "89",
   "metadata": {},
   "outputs": [],
   "source": [
    "display(X_val_preprocessed)"
   ]
  },
  {
   "cell_type": "code",
   "execution_count": null,
   "id": "90",
   "metadata": {},
   "outputs": [],
   "source": [
    "y_val_preprocessed = df_val_sel['price']"
   ]
  },
  {
   "cell_type": "code",
   "execution_count": null,
   "id": "91",
   "metadata": {},
   "outputs": [],
   "source": []
  },
  {
   "cell_type": "code",
   "execution_count": null,
   "id": "92",
   "metadata": {},
   "outputs": [],
   "source": [
    "X_calib_preprocessed, X_val_preprocessed, y_calib_preprocessed, y_val_preprocessed = train_test_split(X_val_preprocessed, y_val_preprocessed, test_size=.5, random_state=16)"
   ]
  },
  {
   "cell_type": "code",
   "execution_count": null,
   "id": "93",
   "metadata": {},
   "outputs": [],
   "source": []
  },
  {
   "cell_type": "code",
   "execution_count": null,
   "id": "94",
   "metadata": {},
   "outputs": [],
   "source": [
    "X_calib_preprocessed.shape"
   ]
  },
  {
   "cell_type": "code",
   "execution_count": null,
   "id": "95",
   "metadata": {},
   "outputs": [],
   "source": [
    "y_calib_preprocessed.shape"
   ]
  },
  {
   "cell_type": "code",
   "execution_count": null,
   "id": "96",
   "metadata": {},
   "outputs": [],
   "source": [
    "X_val_preprocessed.shape"
   ]
  },
  {
   "cell_type": "code",
   "execution_count": null,
   "id": "97",
   "metadata": {},
   "outputs": [],
   "source": []
  },
  {
   "cell_type": "code",
   "execution_count": null,
   "id": "98",
   "metadata": {},
   "outputs": [],
   "source": []
  },
  {
   "cell_type": "code",
   "execution_count": null,
   "id": "99",
   "metadata": {},
   "outputs": [],
   "source": [
    "y_val_preprocessed.shape"
   ]
  },
  {
   "cell_type": "code",
   "execution_count": null,
   "id": "100",
   "metadata": {},
   "outputs": [],
   "source": [
    "X_calib_preprocessed.to_csv(\"split_data/calib_features_preprocessed.csv\", index=False)\n",
    "y_calib_preprocessed.to_csv(\"split_data/calib_target_preprocessed.csv\", index=False)\n",
    "\n",
    "X_val_preprocessed.to_csv(\"split_data/val_features_preprocessed.csv\", index=False)\n",
    "y_val_preprocessed.to_csv(\"split_data/val_target_preprocessed.csv\", index=False)"
   ]
  },
  {
   "cell_type": "markdown",
   "id": "101",
   "metadata": {},
   "source": [
    "## Final variable selection and encoding - lat/lon instead of province"
   ]
  },
  {
   "cell_type": "code",
   "execution_count": null,
   "id": "102",
   "metadata": {},
   "outputs": [],
   "source": [
    "df_val_sel_2 = df_val[['new_building', 'foto_amount', 'lat_missing', 'lat_imputed', 'lon_missing', 'lon_imputed', 'subtype_median_price', 'area_missing', 'area_imputed', 'energy_value_missing', 'energy_value_imputed', 'advertiser_count', 'median_price_advertiser_bin', 'MS_P_50_median_imputed', 'median_price_per_area', 'price']].drop_duplicates()"
   ]
  },
  {
   "cell_type": "code",
   "execution_count": null,
   "id": "103",
   "metadata": {},
   "outputs": [],
   "source": [
    "X_val_preprocessed_2 = df_val_sel_2.drop('price', axis = 1)"
   ]
  },
  {
   "cell_type": "code",
   "execution_count": null,
   "id": "104",
   "metadata": {},
   "outputs": [],
   "source": [
    "y_val_preprocessed_2 = df_val_sel_2['price']"
   ]
  },
  {
   "cell_type": "code",
   "execution_count": null,
   "id": "105",
   "metadata": {},
   "outputs": [],
   "source": [
    "X_calib_preprocessed_2, X_val_preprocessed_2, y_calib_preprocessed_2, y_val_preprocessed_2 = train_test_split(X_val_preprocessed_2, y_val_preprocessed_2, test_size=.5, random_state=16)"
   ]
  },
  {
   "cell_type": "code",
   "execution_count": null,
   "id": "106",
   "metadata": {},
   "outputs": [],
   "source": [
    "X_calib_preprocessed_2.to_csv(\"split_data/calib_features_preprocessed_2.csv\", index=False)\n",
    "y_calib_preprocessed_2.to_csv(\"split_data/calib_target_preprocessed_2.csv\", index=False)\n",
    "\n",
    "X_val_preprocessed_2.to_csv(\"split_data/val_features_preprocessed_2.csv\", index=False)\n",
    "y_val_preprocessed_2.to_csv(\"split_data/val_target_preprocessed_2.csv\", index=False)"
   ]
  },
  {
   "cell_type": "markdown",
   "id": "107",
   "metadata": {},
   "source": [
    "## Final variable selection and encoding - attempt 3"
   ]
  },
  {
   "cell_type": "code",
   "execution_count": null,
   "id": "108",
   "metadata": {},
   "outputs": [],
   "source": [
    "df_val_sel_3 = df_val[['new_building', 'foto_amount', 'lat_missing', 'lat_imputed', 'lon_missing', 'lon_imputed', 'subtype_median_price', 'area_missing', 'area_imputed', 'energy_value_missing', 'energy_value_imputed', 'advertiser_count', 'median_price_advertiser_bin', 'price_per_area_type_region', 'median_price_per_area', 'price_dropped', 'price']].drop_duplicates()"
   ]
  },
  {
   "cell_type": "code",
   "execution_count": null,
   "id": "109",
   "metadata": {},
   "outputs": [],
   "source": [
    "X_val_preprocessed_3 = df_val_sel_3.drop('price', axis = 1)\n",
    "y_val_preprocessed_3 = df_val_sel_3['price']\n",
    "\n",
    "X_val_preprocessed_3.to_csv(\"split_data/val_features_preprocessed_3.csv\", index=False)\n",
    "y_val_preprocessed_3.to_csv(\"split_data/val_target_preprocessed_3.csv\", index=False)"
   ]
  },
  {
   "cell_type": "code",
   "execution_count": null,
   "id": "110",
   "metadata": {},
   "outputs": [],
   "source": [
    "X_calib_preprocessed_3, X_val_preprocessed_3b, y_calib_preprocessed_3, y_val_preprocessed_3b = train_test_split(X_val_preprocessed_3, y_val_preprocessed_3, test_size=.5, random_state=16)"
   ]
  },
  {
   "cell_type": "code",
   "execution_count": null,
   "id": "111",
   "metadata": {},
   "outputs": [],
   "source": [
    "X_calib_preprocessed_3.to_csv(\"split_data/calib_features_preprocessed_3.csv\", index=False)\n",
    "y_calib_preprocessed_3.to_csv(\"split_data/calib_target_preprocessed_3.csv\", index=False)"
   ]
  },
  {
   "cell_type": "markdown",
   "id": "112",
   "metadata": {},
   "source": [
    "## Final variable selection and encoding - attempt 3b"
   ]
  },
  {
   "cell_type": "code",
   "execution_count": null,
   "id": "113",
   "metadata": {},
   "outputs": [],
   "source": [
    "df_val_sel_3b = df_val[['new_building', 'foto_amount', 'lat_missing', 'lat_imputed', 'lon_imputed', 'subtype_median_price', 'area_missing', 'area_imputed', 'energy_value_missing', 'energy_value_imputed', 'advertiser_count', 'median_price_advertiser_bin', 'MS_P_50_median_imputed', 'median_price_per_area_2', 'postcode_last2_0', 'postcode_last3_0', 'price_dropped', 'price']]"
   ]
  },
  {
   "cell_type": "code",
   "execution_count": null,
   "id": "114",
   "metadata": {},
   "outputs": [],
   "source": [
    "X_val_preprocessed_3b = df_val_sel_3b.drop('price', axis = 1)\n",
    "y_val_preprocessed_3b = df_val_sel_3b['price']\n",
    "\n",
    "X_val_preprocessed_3b.to_csv(\"split_data/val_features_preprocessed_3b.csv\", index=False)\n",
    "y_val_preprocessed_3b.to_csv(\"split_data/val_target_preprocessed_3b.csv\", index=False)"
   ]
  },
  {
   "cell_type": "code",
   "execution_count": null,
   "id": "115",
   "metadata": {},
   "outputs": [],
   "source": [
    "X_calib_preprocessed_3b, X_val_preprocessed_3b, y_calib_preprocessed_3b, y_val_preprocessed_3b = train_test_split(X_val_preprocessed_3b, y_val_preprocessed_3b, test_size=.5, random_state=16)"
   ]
  },
  {
   "cell_type": "code",
   "execution_count": null,
   "id": "116",
   "metadata": {},
   "outputs": [],
   "source": [
    "X_calib_preprocessed_3b.to_csv(\"split_data/calib_features_preprocessed_3b.csv\", index=False)\n",
    "y_calib_preprocessed_3b.to_csv(\"split_data/calib_target_preprocessed_3b.csv\", index=False)"
   ]
  },
  {
   "cell_type": "code",
   "execution_count": null,
   "id": "117",
   "metadata": {},
   "outputs": [],
   "source": []
  }
 ],
 "metadata": {
  "kernelspec": {
   "display_name": "Python 3 (ipykernel)",
   "language": "python",
   "name": "python3"
  },
  "language_info": {
   "codemirror_mode": {
    "name": "ipython",
    "version": 3
   },
   "file_extension": ".py",
   "mimetype": "text/x-python",
   "name": "python",
   "nbconvert_exporter": "python",
   "pygments_lexer": "ipython3",
   "version": "3.12.4"
  }
 },
 "nbformat": 4,
 "nbformat_minor": 5
}
