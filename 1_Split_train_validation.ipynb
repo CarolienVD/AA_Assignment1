{
 "cells": [
  {
   "cell_type": "code",
   "execution_count": null,
   "id": "e659768c-0754-4778-8b0e-959814994ba9",
   "metadata": {},
   "outputs": [],
   "source": [
    "import pandas as pd\n",
    "from sklearn.model_selection import train_test_split"
   ]
  },
  {
   "cell_type": "markdown",
   "id": "a83efa97-e158-40df-9ecf-754654545004",
   "metadata": {},
   "source": [
    "- Take time into account when splitting train/test set?\n",
    "- Do cross-validation instead of a single train/test split?"
   ]
  },
  {
   "cell_type": "code",
   "execution_count": null,
   "id": "f505e3ee-82d5-436b-93cf-06bdb23b7878",
   "metadata": {},
   "outputs": [],
   "source": [
    "df_train = pd.read_csv(\"data/train.csv\")"
   ]
  },
  {
   "cell_type": "code",
   "execution_count": null,
   "id": "440a8789-669e-4016-89a9-998d31d21b49",
   "metadata": {},
   "outputs": [],
   "source": [
    "display(df_train)"
   ]
  },
  {
   "cell_type": "code",
   "execution_count": null,
   "id": "8ed6d638-bd70-4d03-94e5-863ce2a83811",
   "metadata": {},
   "outputs": [],
   "source": [
    "df_train.shape"
   ]
  },
  {
   "cell_type": "code",
   "execution_count": null,
   "id": "fe6910b1-d09f-48e1-b971-c52cd6fa6cbf",
   "metadata": {},
   "outputs": [],
   "source": [
    "features = df_train.drop(columns = ['price'])\n",
    "target = df_train['price']"
   ]
  },
  {
   "cell_type": "code",
   "execution_count": null,
   "id": "d9c34d03-de47-456b-a972-21994b1c3718",
   "metadata": {},
   "outputs": [],
   "source": [
    "X_train, X_val, y_train, y_val = train_test_split(features, target, test_size = 0.2, random_state = 16)"
   ]
  },
  {
   "cell_type": "code",
   "execution_count": null,
   "id": "4cb22d98-7bb0-4513-b378-118f8f16cf5f",
   "metadata": {},
   "outputs": [],
   "source": [
    "display(X_train)"
   ]
  },
  {
   "cell_type": "code",
   "execution_count": null,
   "id": "b656a765-27fb-4d95-9bfd-563ffd01a6cf",
   "metadata": {},
   "outputs": [],
   "source": [
    "X_train.shape"
   ]
  },
  {
   "cell_type": "code",
   "execution_count": null,
   "id": "21eea27f-8f3d-44a0-8037-6aa9ee1e8432",
   "metadata": {},
   "outputs": [],
   "source": [
    "X_val.shape"
   ]
  },
  {
   "cell_type": "code",
   "execution_count": null,
   "id": "b01f7ae8-baa6-4709-b36e-c02b5ad9ae4f",
   "metadata": {},
   "outputs": [],
   "source": [
    "X_train.to_csv(\"split_data/train_features.csv\", index=False)\n",
    "y_train.to_csv(\"split_data/train_target.csv\", index=False)\n",
    "\n",
    "X_val.to_csv(\"split_data/val_features.csv\", index=False)\n",
    "y_val.to_csv(\"split_data/val_target.csv\", index=False)"
   ]
  },
  {
   "cell_type": "code",
   "execution_count": null,
   "id": "bdf1a3fb-812c-49c6-850e-22b9eb61533e",
   "metadata": {},
   "outputs": [],
   "source": []
  }
 ],
 "metadata": {
  "kernelspec": {
   "display_name": "Python 3 (ipykernel)",
   "language": "python",
   "name": "python3"
  },
  "language_info": {
   "codemirror_mode": {
    "name": "ipython",
    "version": 3
   },
   "file_extension": ".py",
   "mimetype": "text/x-python",
   "name": "python",
   "nbconvert_exporter": "python",
   "pygments_lexer": "ipython3",
   "version": "3.12.4"
  }
 },
 "nbformat": 4,
 "nbformat_minor": 5
}
