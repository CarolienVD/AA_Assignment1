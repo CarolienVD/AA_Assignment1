{
 "cells": [
  {
   "cell_type": "markdown",
   "id": "0",
   "metadata": {},
   "source": [
    "See https://www.kaggle.com/code/carlmcbrideellis/regression-prediction-intervals-with-mapie/notebook"
   ]
  },
  {
   "cell_type": "code",
   "execution_count": null,
   "id": "1",
   "metadata": {},
   "outputs": [],
   "source": [
    "import numpy as np\n",
    "import pandas as pd\n",
    "import pickle\n",
    "from lightgbm import LGBMRegressor\n",
    "from sklearn.model_selection import GridSearchCV\n",
    "from mapie.regression import MapieQuantileRegressor"
   ]
  },
  {
   "cell_type": "code",
   "execution_count": null,
   "id": "2",
   "metadata": {},
   "outputs": [],
   "source": [
    "pd.set_option('display.max_columns', None) # show all columns in a df"
   ]
  },
  {
   "cell_type": "code",
   "execution_count": null,
   "id": "3",
   "metadata": {},
   "outputs": [],
   "source": [
    "X_train = pd.read_csv(\"split_data/train_features_preprocessed.csv\")\n",
    "y_train = pd.read_csv(\"split_data/train_target_preprocessed.csv\")"
   ]
  },
  {
   "cell_type": "code",
   "execution_count": null,
   "id": "4",
   "metadata": {},
   "outputs": [],
   "source": [
    "X_train.shape"
   ]
  },
  {
   "cell_type": "code",
   "execution_count": null,
   "id": "5",
   "metadata": {},
   "outputs": [],
   "source": [
    "X_calib = pd.read_csv(\"split_data/calib_features_preprocessed.csv\")\n",
    "y_calib = pd.read_csv(\"split_data/calib_target_preprocessed.csv\")"
   ]
  },
  {
   "cell_type": "code",
   "execution_count": null,
   "id": "6",
   "metadata": {},
   "outputs": [],
   "source": [
    "X_calib.shape"
   ]
  },
  {
   "cell_type": "code",
   "execution_count": null,
   "id": "7",
   "metadata": {},
   "outputs": [],
   "source": [
    "X_val = pd.read_csv(\"split_data/val_features_preprocessed.csv\")\n",
    "y_val = pd.read_csv(\"split_data/val_target_preprocessed.csv\")"
   ]
  },
  {
   "cell_type": "code",
   "execution_count": null,
   "id": "8",
   "metadata": {},
   "outputs": [],
   "source": [
    "alpha = 0.1 # for 90% target coverage"
   ]
  },
  {
   "cell_type": "code",
   "execution_count": null,
   "id": "9",
   "metadata": {},
   "outputs": [],
   "source": [
    "\n",
    "regressor = LGBMRegressor( n_estimators       = 1000,\n",
    "                           learning_rate      = 0.05, \n",
    "                           max_depth          = 7, \n",
    "                           min_child_samples  = 8,\n",
    "                           random_state       = 42,\n",
    "                           objective          = 'quantile',\n",
    "                           alpha              = alpha,\n",
    "                           verbose = 50\n",
    "                         )"
   ]
  },
  {
   "cell_type": "code",
   "execution_count": null,
   "id": "10",
   "metadata": {},
   "outputs": [],
   "source": [
    "lgb_model = LGBMRegressor(objective='regression', metric='mae', verbose = 50)\n",
    "\n",
    "# Define hyperparameters grid\n",
    "param_grid = {\n",
    "    'num_leaves': [30, 50], # not ok: should be <= 2^max_depth\n",
    "    'learning_rate': [0.01, 0.05, 0.1],\n",
    "    'n_estimators': [500, 1000],\n",
    "    'max_depth': [5, 7],\n",
    "    'min_child_samples': [5, 8],\n",
    "    'n_estimators' : [500, 1000]\n",
    "}\n",
    "\n",
    "# Perform Grid Search\n",
    "grid_search = GridSearchCV(\n",
    "    estimator=lgb_model,\n",
    "    param_grid=param_grid,\n",
    "    scoring='neg_mean_absolute_error',  # Use negative MAE because sklearn wants higher values to be better\n",
    "    cv=5,                               # 5-fold cross-validation                 \n",
    "    n_jobs=-1                           # Use all CPU cores for faster computation\n",
    ")\n",
    "\n",
    "grid_search.fit(X_train, y_train)\n",
    "\n",
    "print(\"Best parameters found: \", grid_search.best_params_)"
   ]
  },
  {
   "cell_type": "code",
   "execution_count": null,
   "id": "11",
   "metadata": {},
   "outputs": [],
   "source": [
    "grid_search.best_params_"
   ]
  },
  {
   "cell_type": "code",
   "execution_count": null,
   "id": "12",
   "metadata": {},
   "outputs": [],
   "source": [
    "alpha = 0.125 "
   ]
  },
  {
   "cell_type": "code",
   "execution_count": null,
   "id": "13",
   "metadata": {},
   "outputs": [],
   "source": [
    "regressor = LGBMRegressor( n_estimators       = 500,\n",
    "                           learning_rate      = 0.05, \n",
    "                           max_depth          = 7, \n",
    "                           min_child_samples  = 8,\n",
    "                           random_state       = 16,\n",
    "                           num_leaves         = 50,\n",
    "                           objective          = 'quantile',\n",
    "                           alpha              = alpha,\n",
    "                         )"
   ]
  },
  {
   "cell_type": "code",
   "execution_count": null,
   "id": "14",
   "metadata": {},
   "outputs": [],
   "source": [
    "mapie = MapieQuantileRegressor(estimator=regressor, cv=\"split\", alpha=alpha)\n",
    "mapie.fit(X_train, np.ravel(y_train), X_calib=X_calib, y_calib=np.ravel(y_calib))\n",
    "y_pred, y_pis = mapie.predict(X_val)"
   ]
  },
  {
   "cell_type": "code",
   "execution_count": null,
   "id": "15",
   "metadata": {},
   "outputs": [],
   "source": [
    "predictions = np.ravel(y_val)\n",
    "predictions"
   ]
  },
  {
   "cell_type": "code",
   "execution_count": null,
   "id": "16",
   "metadata": {},
   "outputs": [],
   "source": [
    "predictions.columns"
   ]
  },
  {
   "cell_type": "code",
   "execution_count": null,
   "id": "17",
   "metadata": {},
   "outputs": [],
   "source": [
    "predictions = y_val\n",
    "predictions.columns = ['y_true']\n",
    "predictions[\"point prediction\"] = y_pred\n",
    "predictions[\"lower\"] = y_pis.reshape(-1,2)[:,0]\n",
    "predictions[\"upper\"] = y_pis.reshape(-1,2)[:,1]\n",
    "predictions[\"abs_error\"] = abs(predictions[\"point prediction\"] - predictions[\"y_true\"])\n",
    "# take a quick look\n",
    "predictions"
   ]
  },
  {
   "cell_type": "code",
   "execution_count": null,
   "id": "18",
   "metadata": {},
   "outputs": [],
   "source": [
    "alpha_WIS = .20 # instructions assignment\n",
    "\n",
    "alpha = alpha_WIS\n",
    "\n",
    "def WIS_and_coverage(y_true, lower, upper, alpha):\n",
    "        \n",
    "        if np.isnan(lower)  == True: \n",
    "            raise ParticipantVisibleError(\"lower interval value contains NaN value(s)\")\n",
    "        if np.isinf(lower)  == True: \n",
    "            raise ParticipantVisibleError(\"lower interval value contains inf values(s)\")\n",
    "        if np.isnan(upper)  == True: \n",
    "            raise ParticipantVisibleError(\"upper interval value contains NaN value(s)\")\n",
    "        if np.isinf(upper)  == True: \n",
    "            raise ParticipantVisibleError(\"upper interval value contains inf values(s)\")\n",
    "        # These should not occur in a competition setting\n",
    "        if np.isnan(y_true) == True:\n",
    "            raise ParticipantVisibleError(\"y_true contains NaN value(s)\")\n",
    "        if np.isinf(y_true) == True: \n",
    "            raise ParticipantVisibleError(\"y_true contains inf values(s)\")\n",
    "        \n",
    "        # WIS for a single interval\n",
    "        score = np.abs(upper - lower)\n",
    "        if y_true < np.minimum(upper, lower):\n",
    "            score += ((2/alpha) * (np.minimum(upper, lower) - y_true))\n",
    "        if y_true > np.maximum(upper, lower):\n",
    "            score += ((2/alpha) * (y_true - np.maximum(upper, lower)))\n",
    "        # coverage for one single row\n",
    "        coverage  = 1\n",
    "        if (y_true < np.minimum(upper, lower)) or (y_true > np.maximum(upper, lower)):\n",
    "            coverage = 0\n",
    "        return score, coverage\n",
    "\n",
    "# vectorize the function\n",
    "v_WIS_and_coverage = np.vectorize(WIS_and_coverage)"
   ]
  },
  {
   "cell_type": "code",
   "execution_count": null,
   "id": "19",
   "metadata": {},
   "outputs": [],
   "source": [
    "\n",
    "def score(y_true, lower, upper, alpha):\n",
    "        \n",
    "        y_true = y_true.astype(float)\n",
    "        lower  = lower.astype(float)\n",
    "        upper  = upper.astype(float)\n",
    "        \n",
    "        WIS_score,coverage = v_WIS_and_coverage(y_true, lower, upper, alpha)\n",
    "        MWIS     = np.mean(WIS_score)\n",
    "        coverage = coverage.sum() / coverage.shape[0]\n",
    "        \n",
    "        MWIS      = float(MWIS)\n",
    "        coverage  = float(coverage)\n",
    "        \n",
    "        return MWIS, coverage"
   ]
  },
  {
   "cell_type": "code",
   "execution_count": null,
   "id": "20",
   "metadata": {},
   "outputs": [],
   "source": [
    "MWIS, coverage = score(predictions[\"y_true\"], predictions[\"lower\"], predictions[\"upper\"], alpha)\n",
    "\n",
    "MWIS"
   ]
  },
  {
   "cell_type": "code",
   "execution_count": null,
   "id": "21",
   "metadata": {},
   "outputs": [],
   "source": [
    "predictions[\"abs_error\"].mean()"
   ]
  },
  {
   "cell_type": "code",
   "execution_count": null,
   "id": "22",
   "metadata": {},
   "outputs": [],
   "source": [
    "with open('models/mapie.pkl', 'wb') as file:\n",
    "    pickle.dump(mapie, file)"
   ]
  },
  {
   "cell_type": "code",
   "execution_count": null,
   "id": "23",
   "metadata": {},
   "outputs": [],
   "source": []
  }
 ],
 "metadata": {
  "kernelspec": {
   "display_name": "Python 3 (ipykernel)",
   "language": "python",
   "name": "python3"
  },
  "language_info": {
   "codemirror_mode": {
    "name": "ipython",
    "version": 3
   },
   "file_extension": ".py",
   "mimetype": "text/x-python",
   "name": "python",
   "nbconvert_exporter": "python",
   "pygments_lexer": "ipython3",
   "version": "3.12.4"
  }
 },
 "nbformat": 4,
 "nbformat_minor": 5
}
