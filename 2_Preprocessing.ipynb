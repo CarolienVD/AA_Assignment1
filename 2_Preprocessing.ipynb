{
 "cells": [
  {
   "cell_type": "code",
   "execution_count": null,
   "id": "e95f580a-c5f5-49ea-81cb-5747a67cebfc",
   "metadata": {},
   "outputs": [],
   "source": [
    "import pandas as pd\n",
    "import numpy as np\n",
    "import pickle\n",
    "from ydata_profiling import ProfileReport"
   ]
  },
  {
   "cell_type": "code",
   "execution_count": null,
   "id": "b10d356d-fadd-4b18-88f6-1b19331be799",
   "metadata": {},
   "outputs": [],
   "source": [
    "pd.set_option('display.max_columns', None) # show all columns in a df"
   ]
  },
  {
   "cell_type": "code",
   "execution_count": null,
   "id": "7888f343-60b6-4dac-ae3a-1aa0ed3490fa",
   "metadata": {},
   "outputs": [],
   "source": [
    "X_train = pd.read_csv(\"split_data/train_features.csv\")\n",
    "y_train = pd.read_csv(\"split_data/train_target.csv\")"
   ]
  },
  {
   "cell_type": "code",
   "execution_count": null,
   "id": "42d9b1a4-6fbd-4de7-af87-198db8009699",
   "metadata": {},
   "outputs": [],
   "source": [
    "df_train = pd.concat([X_train, y_train], axis = 1)"
   ]
  },
  {
   "cell_type": "code",
   "execution_count": null,
   "id": "98e6c868-90dd-4a3d-b32e-fc73aff91237",
   "metadata": {},
   "outputs": [],
   "source": [
    "df_train.shape"
   ]
  },
  {
   "cell_type": "code",
   "execution_count": null,
   "id": "54ae3471-7862-406f-8401-f470c37d8589",
   "metadata": {},
   "outputs": [],
   "source": [
    "# df_train['row_prop_missing'] = df_train.isna().mean(axis=1) # Not ok to already calculate here - some are missing by design (e.g. sticker)"
   ]
  },
  {
   "cell_type": "code",
   "execution_count": null,
   "id": "cf9dbfa1-20bc-4c78-a22d-7e2d8170478d",
   "metadata": {},
   "outputs": [],
   "source": [
    "df_train.head()"
   ]
  },
  {
   "cell_type": "code",
   "execution_count": null,
   "id": "a33c21d4-27ab-4ba9-b2a1-45ebcfa0b046",
   "metadata": {},
   "outputs": [],
   "source": [
    "profile = ProfileReport(df_train)"
   ]
  },
  {
   "cell_type": "code",
   "execution_count": null,
   "id": "4c18688c-b184-4963-aa32-0744ac2a47e9",
   "metadata": {},
   "outputs": [],
   "source": [
    "profile.to_notebook_iframe()"
   ]
  },
  {
   "cell_type": "markdown",
   "id": "7e9aed64-d4c9-4eb3-b8c1-dfff228b76df",
   "metadata": {},
   "source": [
    "Observations  / remarks:\n",
    "- id: make sure not to include\n",
    "- is_appartment: multicollinearity with subtype -> don't include both\n",
    "- area: high correlation with price! impute missing values based on median per subtype, add column to indicate original was missing\n",
    "- added_time: number of minutes / seconds since the property was added? Can be relevant (very expensive properties might take longer before being sold)\n",
    "- bedrooms: high correlation with area -> price!\n",
    "- new_building: no remarks\n",
    "- postcode: no remarks\n",
    "- lat / lon: impute missings? calculate distance to railway track, airport, highway (noise)?\n",
    "- advertiser: impute missings or treat as separate category? > 2000 unique values: reduce? \n",
    "- foto_amount: no remarks\n",
    "- is_promoted: constant -> ignore\n",
    "- subtype: limited number of missings, can be partly imputed based on is_appartment\n",
    "- sticker (new / price drop): only price drop could be relevant for price? recode missing values to third category 'no sticker'? ! perfect correlation with energy_value?\n",
    "- price drop date: relevance?\n",
    "- energy_value: many missings! can be partly imputed using new_building and/or energy_label? note: a missing energy value usually means it's a bad one\n",
    "- energy_label: many missings! multicollinearity with energy_value - value is more precise \n",
    "- province: maybe cross-check with postal code (DQ); use statbel average price per house / appartment data?\n",
    "- price: maximum 999999?\n",
    "- Outliers: Treat or not? DT-based methods can handle them"
   ]
  },
  {
   "cell_type": "markdown",
   "id": "aa246722-b725-461b-8e28-a2e52add332a",
   "metadata": {},
   "source": [
    "## Rows with many NAs"
   ]
  },
  {
   "cell_type": "code",
   "execution_count": null,
   "id": "fd70f3c1-4a5a-491f-9fe5-4416ac05869c",
   "metadata": {},
   "outputs": [],
   "source": [
    "# display(df_train[df_train['row_prop_missing'] > .10])"
   ]
  },
  {
   "cell_type": "markdown",
   "id": "90729d60-467f-4a3b-ad00-8d14126eb39b",
   "metadata": {},
   "source": [
    "## Duplicate rows"
   ]
  },
  {
   "cell_type": "code",
   "execution_count": null,
   "id": "4c5d04a9-49e5-4cb3-a8c5-432c655cb735",
   "metadata": {},
   "outputs": [],
   "source": [
    "# Check done: row with most recent (max) added_time does not necessarily correspond to row with lowest price\n",
    "# For consistency, deduplicate by keeping row with lowest price (assumed to actually also be most recently updated) - this of course won't work in the test set\n",
    "# Use added_time\n",
    "\n",
    "# df_deduplicate = df_train.groupby([\"area\", \"bedrooms\", \"postcode\", \"lat\", \"lon\", \"advertiser\", \"subtype\"], dropna = False).agg({'price': ['nunique','min'], 'added_time': 'max'}).reset_index()\n",
    "# df_deduplicate.columns = list(map(''.join, df_deduplicate.columns.values))\n",
    "# df_deduplicate = df_deduplicate.rename(columns = {'pricemin' : 'price'})\n",
    "# df_deduplicate.head()\n",
    "\n",
    "df_deduplicate = df_train.groupby([\"area\", \"bedrooms\", \"postcode\", \"lat\", \"lon\", \"advertiser\", \"subtype\"], dropna = False).agg({'added_time': 'max', 'id': 'nunique'}).reset_index()\n",
    "df_deduplicate = df_deduplicate.rename(columns = {\"id\" : \"row_count\"})\n",
    "df_deduplicate.head()"
   ]
  },
  {
   "cell_type": "code",
   "execution_count": null,
   "id": "98d33a55-994c-402e-96fd-9d5a62daf837",
   "metadata": {},
   "outputs": [],
   "source": [
    "df_train = pd.merge(df_train, df_deduplicate, how = 'inner', on = [\"area\", \"bedrooms\", \"postcode\", \"lat\", \"lon\", \"advertiser\", \"subtype\", \"added_time\"])\n",
    "df_train = df_train.sort_values(by='added_time', ascending=False)\n",
    "df_train['row_num'] = df_train.groupby([\"area\", \"bedrooms\", \"postcode\", \"lat\", \"lon\", \"advertiser\", \"subtype\"], dropna = False).cumcount() + 1\n",
    "df_train = df_train[df_train['row_num'] == 1].drop(columns='row_num')\n",
    "display(df_train)"
   ]
  },
  {
   "cell_type": "markdown",
   "id": "3a97c8c5-b8c2-41c3-ba95-8236162f6b36",
   "metadata": {},
   "source": [
    "## Subtype"
   ]
  },
  {
   "cell_type": "markdown",
   "id": "46778470-2b57-4502-bad2-661bb8d6c395",
   "metadata": {},
   "source": [
    "Observations / remarks:\n",
    "- Missing values are partly houses and partly appartments -> can be assigned accordingly\n",
    "- There are synonyms -> can be grouped together\n",
    "- 'Andere' is never an appartment\n",
    "- Group infrequent levels together? Reduce dimensionality (but: not really necessary for DT-based approach?)\n",
    "- Perform clustering a.o. on price to reduce number of levels?"
   ]
  },
  {
   "cell_type": "code",
   "execution_count": null,
   "id": "4eb32373-0766-49dd-a84d-d43b8a59f2af",
   "metadata": {},
   "outputs": [],
   "source": [
    "pd.crosstab(df_train['subtype'], df_train['is_appartment'], dropna=False)"
   ]
  },
  {
   "cell_type": "code",
   "execution_count": null,
   "id": "79350239-c605-4dfb-af4a-178a9cb6ab5e",
   "metadata": {},
   "outputs": [],
   "source": [
    "subtype_counts = df_train['subtype'].value_counts()\n",
    "min_subtype_count = 10\n",
    "map_infrequent_subtypes = subtype_counts[subtype_counts < min_subtype_count].index\n",
    "df_train['subtype_regrouped'] = df_train['subtype'].apply(lambda x: 'Andere' if x in map_infrequent_subtypes else x) # remove this step?"
   ]
  },
  {
   "cell_type": "code",
   "execution_count": null,
   "id": "3242ea12-13b6-4245-aa49-54bd188f9d98",
   "metadata": {},
   "outputs": [],
   "source": [
    "map_synonyms = {\n",
    "    'Assistentie-appartement': 'Serviceflat',\n",
    "    'Villa-landhuis': 'Villa',\n",
    "    'Moderne villa': 'Villa',\n",
    "    'Eengezinswoning': 'Woning',    \n",
    "    'Herenwoning': 'Herenhuis',\n",
    "    'Dakappartement': 'Penthouse',\n",
    "    'Studio met slaaphoek': 'Studio',\n",
    "}\n",
    "\n",
    "df_train['subtype_regrouped'] = df_train['subtype_regrouped'].replace(map_synonyms)\n",
    "\n",
    "df_train['subtype_regrouped'].value_counts()"
   ]
  },
  {
   "cell_type": "markdown",
   "id": "f629795f-d527-44cf-afb4-c4ba4e743b6a",
   "metadata": {},
   "source": [
    "## Area"
   ]
  },
  {
   "cell_type": "markdown",
   "id": "b0a84a76-22d4-4c8e-85be-4e0796853f7e",
   "metadata": {},
   "source": [
    "Impute area with median value for subtype (regrouped) and province"
   ]
  },
  {
   "cell_type": "code",
   "execution_count": null,
   "id": "6f75dfae-52ec-4235-9410-ddf20eba6d22",
   "metadata": {},
   "outputs": [],
   "source": [
    "df_train['area_missing'] = df_train['area'].isna().astype(int)"
   ]
  },
  {
   "cell_type": "code",
   "execution_count": null,
   "id": "b10171a3-e187-48c8-b390-ea1f9e79471e",
   "metadata": {},
   "outputs": [],
   "source": [
    "median_area = df_train.groupby(['subtype_regrouped', 'province'])['area'].median()\n",
    "\n",
    "median_area.to_pickle('intermediate_data/median_area.pkl')"
   ]
  },
  {
   "cell_type": "code",
   "execution_count": null,
   "id": "cbb9c5e7-ccb3-4c2b-8c95-0dffb3d7f6f7",
   "metadata": {},
   "outputs": [],
   "source": [
    "df_train['area_imputed'] = df_train.apply(\n",
    "    lambda row: median_area.get((row['subtype_regrouped'], row['province']), row['area']) if pd.isna(row['area']) else row['area'],\n",
    "    axis=1\n",
    ")"
   ]
  },
  {
   "cell_type": "code",
   "execution_count": null,
   "id": "bd80b43d-9e20-4df4-93fe-65c7e9e6319e",
   "metadata": {},
   "outputs": [],
   "source": [
    "# df_train['area_imputed'] = df_train['area'].fillna(df_train.groupby(['subtype_regrouped', 'province'])['area'].transform('median'))"
   ]
  },
  {
   "cell_type": "code",
   "execution_count": null,
   "id": "0df53f0b-3bb4-4de4-a8b5-5098eefc66a0",
   "metadata": {},
   "outputs": [],
   "source": [
    "display(df_train[0:10])"
   ]
  },
  {
   "cell_type": "markdown",
   "id": "f236a512-2acd-4bd1-8b0e-b31fbdca5542",
   "metadata": {},
   "source": [
    "## Energy value"
   ]
  },
  {
   "cell_type": "code",
   "execution_count": null,
   "id": "8bbd80a2-453a-4bbb-ac77-647e9d993abc",
   "metadata": {},
   "outputs": [],
   "source": [
    "df_train['energy_label'].value_counts(dropna = False)"
   ]
  },
  {
   "cell_type": "markdown",
   "id": "fce0b59b-acda-47b9-927b-9a318c7c9dfb",
   "metadata": {},
   "source": [
    "New buildings with energy label d, e, f, g -> probably bad DQ?"
   ]
  },
  {
   "cell_type": "code",
   "execution_count": null,
   "id": "304887ce-2417-4740-85f4-7172fd020906",
   "metadata": {},
   "outputs": [],
   "source": [
    "pd.crosstab(df_train['energy_label'], df_train['new_building'], dropna=False)"
   ]
  },
  {
   "cell_type": "code",
   "execution_count": null,
   "id": "a69b87f6-38d3-4f21-85bc-76a689023f85",
   "metadata": {},
   "outputs": [],
   "source": [
    "# Keep only first letter of energy label, except for 'a+'\n",
    "\n",
    "df_train['energy_label_regrouped'] = df_train['energy_label'].apply(lambda x: x[0] if isinstance(x, str) and x != 'a+' and x != 'a+' else x)"
   ]
  },
  {
   "cell_type": "code",
   "execution_count": null,
   "id": "a59fc50b-6adc-488f-a912-a6eaf36dd7d6",
   "metadata": {},
   "outputs": [],
   "source": [
    "pd.crosstab(df_train['energy_label_regrouped'], df_train['new_building'], dropna=False)"
   ]
  },
  {
   "cell_type": "markdown",
   "id": "e9044df3-0028-4c0a-99bb-e363c6338bf7",
   "metadata": {},
   "source": [
    "For f and g not ok: normally label A corresponds to values 0-100, B to 101-200, etc."
   ]
  },
  {
   "cell_type": "code",
   "execution_count": null,
   "id": "3e07a8db-9233-44c8-92d4-cff57bcc739e",
   "metadata": {},
   "outputs": [],
   "source": [
    "df_train.groupby(['energy_label_regrouped'])['energy_value'].median()"
   ]
  },
  {
   "cell_type": "code",
   "execution_count": null,
   "id": "2f09ad30-fc93-4882-9f98-a5a02c73bfbd",
   "metadata": {},
   "outputs": [],
   "source": [
    "df_train.groupby(['energy_label_regrouped', 'new_building'])['energy_value'].median()"
   ]
  },
  {
   "cell_type": "code",
   "execution_count": null,
   "id": "375f312e-ac57-4e53-8dc8-074cba898cbd",
   "metadata": {},
   "outputs": [],
   "source": [
    "df_train[df_train['energy_value'].isna()]"
   ]
  },
  {
   "cell_type": "code",
   "execution_count": null,
   "id": "d2500f23-7fe1-4d27-8517-3006991e208f",
   "metadata": {},
   "outputs": [],
   "source": [
    "pd.crosstab(df_train[df_train['energy_value'].isna()]['energy_label_regrouped'], df_train[df_train['energy_value'].isna()]['new_building'], dropna=False)"
   ]
  },
  {
   "cell_type": "markdown",
   "id": "13e086dc-09cf-4bdc-9550-4b7d2a1554bb",
   "metadata": {},
   "source": [
    "For categories with missings, the sample size with valid energy values is large enough (see higher), so it's okay to also impute based on new_building"
   ]
  },
  {
   "cell_type": "code",
   "execution_count": null,
   "id": "7e37c533-c263-4125-a66b-e9ff80a6bb57",
   "metadata": {},
   "outputs": [],
   "source": [
    "median_energy = df_train.groupby(['energy_label_regrouped', 'new_building', 'subtype_regrouped'])['energy_value'].median()\n",
    "\n",
    "median_energy.to_pickle('intermediate_data/median_energy.pkl')"
   ]
  },
  {
   "cell_type": "code",
   "execution_count": null,
   "id": "234b3374-6fbc-47a6-b23f-9ca995a7437e",
   "metadata": {},
   "outputs": [],
   "source": [
    "df_train['energy_value_missing'] = df_train['energy_value'].isna().astype(int)"
   ]
  },
  {
   "cell_type": "code",
   "execution_count": null,
   "id": "ac0ce92e-c41a-435b-8902-bae2a93c02dc",
   "metadata": {},
   "outputs": [],
   "source": [
    "df_train['energy_value_imputed'] = df_train.apply(\n",
    "    lambda row: median_energy.get((row['energy_label_regrouped'], row['new_building'], row['subtype_regrouped']), row['energy_value']) if pd.isna(row['energy_value']) else row['energy_value'],\n",
    "    axis=1\n",
    ")"
   ]
  },
  {
   "cell_type": "code",
   "execution_count": null,
   "id": "d7d6bbcf-4a17-40db-af0d-e157f14f4f69",
   "metadata": {},
   "outputs": [],
   "source": [
    "df_train['energy_value'].value_counts(dropna = False)"
   ]
  },
  {
   "cell_type": "code",
   "execution_count": null,
   "id": "e4358676-fba7-4ace-81b5-70562aee3129",
   "metadata": {},
   "outputs": [],
   "source": [
    "# Now all rows except for the ones where the energy label is also missing have an energy value\n",
    "\n",
    "df_train['energy_value_imputed'].value_counts(dropna = False)"
   ]
  },
  {
   "cell_type": "code",
   "execution_count": null,
   "id": "4d9c3fbb-c3ea-48c1-a47d-f664ab142210",
   "metadata": {},
   "outputs": [],
   "source": [
    "df_train.groupby(['subtype_regrouped', 'new_building'])['energy_value'].median()"
   ]
  },
  {
   "cell_type": "code",
   "execution_count": null,
   "id": "02d35b61-a8b7-4a89-a170-43779a926ffc",
   "metadata": {},
   "outputs": [],
   "source": [
    "median_energy_wo_label = df_train.groupby(['new_building', 'subtype_regrouped'])['energy_value'].median()\n",
    "\n",
    "median_energy_wo_label.to_pickle('intermediate_data/median_energy_wo_label.pkl')"
   ]
  },
  {
   "cell_type": "code",
   "execution_count": null,
   "id": "6193bc9e-ece7-4de6-9b0c-e807ced999e4",
   "metadata": {},
   "outputs": [],
   "source": [
    "df_train['energy_value_imputed'] = df_train.apply(\n",
    "    lambda row: median_energy_wo_label.get((row['new_building'], row['subtype_regrouped']), row['energy_value']) if pd.isna(row['energy_value_imputed']) else row['energy_value_imputed'],\n",
    "    axis=1\n",
    ")"
   ]
  },
  {
   "cell_type": "code",
   "execution_count": null,
   "id": "860a6b8d-1578-4eaf-8b69-af51a39fd59f",
   "metadata": {},
   "outputs": [],
   "source": [
    "# All NAs imputed\n",
    "\n",
    "df_train['energy_value_imputed'].value_counts(dropna = False)"
   ]
  },
  {
   "cell_type": "markdown",
   "id": "858b51e2-57f6-4ff0-9c38-a47875bf9f22",
   "metadata": {},
   "source": [
    "## Advertiser"
   ]
  },
  {
   "cell_type": "markdown",
   "id": "9e2f8da5-0a69-405c-a50b-b09028940a43",
   "metadata": {},
   "source": [
    "High number of categories - apply something similar to Weights Of Evidence (= for classification problems)\n",
    "\n",
    "Note: some advertisers occur only once and seem to have a person's name (not a real estate agency) -> also informative\n",
    "\n",
    "Make bins of advertisers based on how often they occur (only once (category 5: person) vs. more (categories 1-4: agency)) and their median price.\n",
    "Category 5: only occurs once, so no relevant information on 'typical' pricing; this advertiser will (normally) not occur in the test set either \n",
    "Catgories 1-4: occurs more than once, categorize based on median price "
   ]
  },
  {
   "cell_type": "code",
   "execution_count": null,
   "id": "6cbafb52-b177-4003-bedc-a095718db724",
   "metadata": {},
   "outputs": [],
   "source": [
    "df_train['advertiser'].nunique()"
   ]
  },
  {
   "cell_type": "code",
   "execution_count": null,
   "id": "122737f4-27dc-423f-b12f-8344ba8fad58",
   "metadata": {},
   "outputs": [],
   "source": [
    "df_train['advertiser'].value_counts(dropna = False).head(50) "
   ]
  },
  {
   "cell_type": "code",
   "execution_count": null,
   "id": "2d770fca-7546-4332-8d9b-e7dec499bf29",
   "metadata": {},
   "outputs": [],
   "source": [
    "# advertiser_counts = df_train['advertiser'].value_counts()\n",
    "# min_advertiser_count = 10\n",
    "# map_infrequent_advertisers = advertiser_counts[advertiser_counts < min_advertiser_count].index\n",
    "# df_train['advertiser_regrouped'] = df_train['advertiser'].apply(lambda x: 'Andere' if x in map_infrequent_advertisers or pd.isna(x) else x)"
   ]
  },
  {
   "cell_type": "code",
   "execution_count": null,
   "id": "433c67e4-8fd7-4da0-9fd2-daffb6a97be3",
   "metadata": {},
   "outputs": [],
   "source": [
    "median_price_advertiser = df_train.groupby('advertiser', dropna = False).agg(\n",
    "    advertiser_median_price=('price', 'median'),  \n",
    "    advertiser_count=('advertiser', 'size')     \n",
    ").reset_index()\n",
    "\n",
    "median_price_advertiser.columns = ['advertiser', 'advertiser_median_price', 'advertiser_count']\n",
    "display(median_price_advertiser)"
   ]
  },
  {
   "cell_type": "code",
   "execution_count": null,
   "id": "58a078ba-2408-4675-8ac3-5c82784b85ca",
   "metadata": {},
   "outputs": [],
   "source": [
    "median_price_advertiser['advertiser_bin'] = np.where((median_price_advertiser['advertiser_count'] == 1) | (pd.isna(median_price_advertiser['advertiser']))\n",
    "                                                     , 5, np.nan)\n",
    "display(median_price_advertiser)"
   ]
  },
  {
   "cell_type": "code",
   "execution_count": null,
   "id": "d8fe8217-5faa-4b70-8074-6fe8bdd53e8d",
   "metadata": {},
   "outputs": [],
   "source": [
    "num_bins = 4  \n",
    "median_price_advertiser.loc[(median_price_advertiser['advertiser_count'] > 1) & (~pd.isna(median_price_advertiser['advertiser'])), 'advertiser_bin'] = pd.qcut(\n",
    "    median_price_advertiser.loc[(median_price_advertiser['advertiser_count'] > 1) & ~ (pd.isna(median_price_advertiser['advertiser'])), 'advertiser_median_price'], \n",
    "    q=num_bins, \n",
    "    labels=False\n",
    ")\n",
    "display(median_price_advertiser)"
   ]
  },
  {
   "cell_type": "code",
   "execution_count": null,
   "id": "f06a2a81-66b3-4d7c-8a9a-7cfe8684173c",
   "metadata": {},
   "outputs": [],
   "source": [
    "median_price_advertiser.groupby(['advertiser_bin'])['advertiser_median_price'].median()"
   ]
  },
  {
   "cell_type": "code",
   "execution_count": null,
   "id": "4a71bf04-9871-4873-a546-ebd7b655f145",
   "metadata": {},
   "outputs": [],
   "source": [
    "df_train = pd.merge(df_train, median_price_advertiser, how='left', on = \"advertiser\")"
   ]
  },
  {
   "cell_type": "code",
   "execution_count": null,
   "id": "8a908e69-cc04-47f3-8669-754fbe721fc9",
   "metadata": {},
   "outputs": [],
   "source": [
    "df_train.head()"
   ]
  },
  {
   "cell_type": "code",
   "execution_count": null,
   "id": "23655822-ec52-4324-9668-0f5010610b38",
   "metadata": {},
   "outputs": [],
   "source": [
    "df_train['advertiser_bin'].value_counts(dropna = False)"
   ]
  },
  {
   "cell_type": "code",
   "execution_count": null,
   "id": "afbbbbac-3476-4296-ab7a-dea6ef4b55a1",
   "metadata": {},
   "outputs": [],
   "source": []
  },
  {
   "cell_type": "code",
   "execution_count": null,
   "id": "c7535a85-cb0a-4535-bf36-1f51f5a1bbe0",
   "metadata": {},
   "outputs": [],
   "source": [
    "median_price_per_advertiser_bin = df_train.groupby(['advertiser_bin'], as_index = False)['price'].median()\n",
    "median_price_per_advertiser_bin.columns = ['advertiser_bin', 'median_price_advertiser_bin']\n",
    "median_price_per_advertiser_bin"
   ]
  },
  {
   "cell_type": "code",
   "execution_count": null,
   "id": "cbd72b1c-7c52-4588-9df0-91944b811996",
   "metadata": {},
   "outputs": [],
   "source": [
    "median_price_per_advertiser_bin.to_pickle('intermediate_data/median_price_per_advertiser_bin.pkl')"
   ]
  },
  {
   "cell_type": "code",
   "execution_count": null,
   "id": "8fc091e0-8d46-4417-b9e8-178698013dc5",
   "metadata": {},
   "outputs": [],
   "source": [
    "df_train = pd.merge(df_train, median_price_per_advertiser_bin, how='left', on='advertiser_bin')\n",
    "df_train.head()"
   ]
  },
  {
   "cell_type": "markdown",
   "id": "417a1c98-7541-4330-9a1c-63f0563d3fe7",
   "metadata": {},
   "source": [
    "## Regional prices"
   ]
  },
  {
   "cell_type": "code",
   "execution_count": null,
   "id": "ba800dd7-36c7-4140-9ff2-3435893d2db8",
   "metadata": {},
   "outputs": [],
   "source": [
    "df_map_nis = pd.read_csv(\"external_data/cities.csv\")"
   ]
  },
  {
   "cell_type": "code",
   "execution_count": null,
   "id": "c6286d69-cb02-48f8-bc23-9d25977c86f8",
   "metadata": {},
   "outputs": [],
   "source": [
    "display(df_map_nis)"
   ]
  },
  {
   "cell_type": "code",
   "execution_count": null,
   "id": "b129cab8-1159-474d-b8de-960a452c274c",
   "metadata": {},
   "outputs": [],
   "source": [
    "df_map_nis['zipCode'].value_counts()"
   ]
  },
  {
   "cell_type": "code",
   "execution_count": null,
   "id": "d1990150-5550-4d69-a41a-904175057239",
   "metadata": {},
   "outputs": [],
   "source": [
    "# if there are multiple lines for the same zip code, there is 1 'main'\n",
    "df_map_nis[df_map_nis['zipCode'] == 3700]"
   ]
  },
  {
   "cell_type": "code",
   "execution_count": null,
   "id": "16cce7e3-160d-4619-ae8f-260c9bd5040b",
   "metadata": {},
   "outputs": [],
   "source": [
    "df_map_nis[df_map_nis['zipCode'] == 2260]"
   ]
  },
  {
   "cell_type": "code",
   "execution_count": null,
   "id": "47d27000-9949-40e7-b079-c4a4f12bbfe6",
   "metadata": {},
   "outputs": [],
   "source": [
    "df_map_nis[df_map_nis['zipCode'] == 7700]"
   ]
  },
  {
   "cell_type": "code",
   "execution_count": null,
   "id": "ba39a14e-a5a2-4a70-b8d3-e84ad0eb0f3b",
   "metadata": {},
   "outputs": [],
   "source": []
  },
  {
   "cell_type": "code",
   "execution_count": null,
   "id": "697b5afb-0d2a-4f8e-b15b-9006c8d7c6c9",
   "metadata": {},
   "outputs": [],
   "source": [
    "df_map_nis[df_map_nis['zipCode'] == 2260]"
   ]
  },
  {
   "cell_type": "code",
   "execution_count": null,
   "id": "326e112c-a32d-4754-ab36-0d75eb6cd9b6",
   "metadata": {},
   "outputs": [],
   "source": [
    "df_map_nis_renamed = df_map_nis.rename(columns={'name': 'municipality', 'province': 'province_nis', 'zipCode': 'zip_code', 'nisCode': 'nis_code'}).copy()"
   ]
  },
  {
   "cell_type": "code",
   "execution_count": null,
   "id": "f6eb0581-586b-4355-bce0-59170740768a",
   "metadata": {},
   "outputs": [],
   "source": [
    "df_map_nis_deduplicated = df_map_nis_renamed.sort_values(by='main', ascending=False).groupby('zip_code').first().reset_index().drop(columns = 'main').copy()"
   ]
  },
  {
   "cell_type": "code",
   "execution_count": null,
   "id": "af0ff7a9-e299-477e-bca8-9d6147c2e910",
   "metadata": {},
   "outputs": [],
   "source": [
    "df_map_nis_deduplicated['zip_code'].value_counts()"
   ]
  },
  {
   "cell_type": "code",
   "execution_count": null,
   "id": "5a8cca62-be98-479b-b4b2-c47df6ea84b2",
   "metadata": {},
   "outputs": [],
   "source": [
    "df_map_nis_deduplicated[df_map_nis_deduplicated['zip_code'] == 3700]"
   ]
  },
  {
   "cell_type": "code",
   "execution_count": null,
   "id": "869fd8fa-d792-424d-8d51-35c0bfbce59b",
   "metadata": {},
   "outputs": [],
   "source": [
    "df_train = pd.merge(df_train, df_map_nis_deduplicated, how='left', left_on='postcode', right_on = 'zip_code')\n",
    "display(df_train)"
   ]
  },
  {
   "cell_type": "code",
   "execution_count": null,
   "id": "538fb9b7-7455-4e00-9c17-352ccee6fd24",
   "metadata": {},
   "outputs": [],
   "source": [
    "df_train.shape"
   ]
  },
  {
   "cell_type": "code",
   "execution_count": null,
   "id": "dcdadc4c-bcb3-413e-adf7-48cfd6ba4923",
   "metadata": {},
   "outputs": [],
   "source": [
    "pd.crosstab(df_train['province'], df_train['province_nis'], dropna=False) # Looks okay except for Antwerpen-Oost-Vlaanderen?"
   ]
  },
  {
   "cell_type": "code",
   "execution_count": null,
   "id": "47cdb5fe-fe04-4a15-9689-aed0a958e0fe",
   "metadata": {},
   "outputs": [],
   "source": [
    "df_statbel_prices = pd.read_excel(\"external_data/vastgoed_2010_9999.xlsx\", sheet_name = '2024')"
   ]
  },
  {
   "cell_type": "code",
   "execution_count": null,
   "id": "bccdfe2f-27b9-4f46-be3e-db98f33be885",
   "metadata": {},
   "outputs": [],
   "source": [
    "display(df_statbel_prices)"
   ]
  },
  {
   "cell_type": "code",
   "execution_count": null,
   "id": "acd7e8be-1405-4cff-a3ab-d3fd01dc1832",
   "metadata": {},
   "outputs": [],
   "source": [
    "df_statbel_prices['CD_TYPE_NL'].unique()"
   ]
  },
  {
   "cell_type": "code",
   "execution_count": null,
   "id": "bc4e5ed3-e6e0-4836-ba9e-2903cba6811e",
   "metadata": {},
   "outputs": [],
   "source": [
    "df_statbel_prices['CD_CLASS_SURFACE'].unique()"
   ]
  },
  {
   "cell_type": "code",
   "execution_count": null,
   "id": "b868ffc7-4d2b-4b2c-b6e8-63b4c2885c4b",
   "metadata": {},
   "outputs": [],
   "source": [
    "df_statbel_prices_houses = df_statbel_prices[(df_statbel_prices['CD_TYPE_NL'] == 'Alle huizen met 2, 3, 4 of meer gevels (excl. appartementen)') & (df_statbel_prices['CD_PERIOD'] == 'S1')]"
   ]
  },
  {
   "cell_type": "code",
   "execution_count": null,
   "id": "5181cd06-196f-41e7-a171-7765ad148006",
   "metadata": {},
   "outputs": [],
   "source": [
    "df_statbel_prices_houses = (\n",
    "    df_statbel_prices\n",
    "    .query(\"CD_TYPE_NL == 'Alle huizen met 2, 3, 4 of meer gevels (excl. appartementen)' & CD_PERIOD == 'S1'\")  \n",
    "    .loc[:, ['CD_REFNIS', 'CD_REFNIS_NL', 'MS_TOTAL_TRANSACTIONS', 'MS_P_25', 'MS_P_50_median', 'MS_P_75']]  \n",
    "    .assign(F_APPARTMENT = 0)\n",
    ")"
   ]
  },
  {
   "cell_type": "code",
   "execution_count": null,
   "id": "37752fd5-6888-4976-a595-283a4a1edb77",
   "metadata": {},
   "outputs": [],
   "source": [
    "df_statbel_prices_appartments = (\n",
    "    df_statbel_prices\n",
    "    .query(\"CD_TYPE_NL == 'Appartementen' & CD_PERIOD == 'S1'\")  \n",
    "    .loc[:, ['CD_REFNIS', 'CD_REFNIS_NL', 'MS_TOTAL_TRANSACTIONS', 'MS_P_25', 'MS_P_50_median', 'MS_P_75']]  \n",
    "    .assign(F_APPARTMENT = 1)\n",
    ")"
   ]
  },
  {
   "cell_type": "code",
   "execution_count": null,
   "id": "7dbe3f3e-43c2-4aa4-a4d9-1d59eb734b3b",
   "metadata": {},
   "outputs": [],
   "source": [
    "df_statbel_prices_selection = pd.concat([df_statbel_prices_houses, df_statbel_prices_appartments], ignore_index=True)"
   ]
  },
  {
   "cell_type": "code",
   "execution_count": null,
   "id": "5dbe4889-561b-4216-a0c0-11d98a4b3065",
   "metadata": {},
   "outputs": [],
   "source": [
    "display(df_statbel_prices_selection)"
   ]
  },
  {
   "cell_type": "code",
   "execution_count": null,
   "id": "fb933745-11ba-4ce6-a8a0-01eee9234415",
   "metadata": {},
   "outputs": [],
   "source": [
    "df_statbel_prices_selection[df_statbel_prices_selection['CD_REFNIS_NL'].str.contains('PROVINCIE')]"
   ]
  },
  {
   "cell_type": "code",
   "execution_count": null,
   "id": "473a7230-16af-47bd-8259-41aa3c1c070e",
   "metadata": {},
   "outputs": [],
   "source": [
    "# Example of NIS where there are no appartment prices available\n",
    "df_statbel_prices[df_statbel_prices['CD_REFNIS'] == 13049]"
   ]
  },
  {
   "cell_type": "code",
   "execution_count": null,
   "id": "3cab72a6-3037-4fa8-b109-59372a78156e",
   "metadata": {},
   "outputs": [],
   "source": []
  },
  {
   "cell_type": "code",
   "execution_count": null,
   "id": "5686a3e6-7300-4b51-bb68-73ab60542bb2",
   "metadata": {},
   "outputs": [],
   "source": []
  },
  {
   "cell_type": "code",
   "execution_count": null,
   "id": "c3210cd3-00c7-4d35-a924-dfe03a44e0dd",
   "metadata": {},
   "outputs": [],
   "source": [
    "df_train = pd.merge(df_train, df_statbel_prices_selection, how='left', left_on=['nis_code', 'is_appartment'], right_on = ['CD_REFNIS', 'F_APPARTMENT'])"
   ]
  },
  {
   "cell_type": "code",
   "execution_count": null,
   "id": "70e239e5-a9ea-4363-8a0e-67dcc841e0de",
   "metadata": {},
   "outputs": [],
   "source": [
    "display(df_train)"
   ]
  },
  {
   "cell_type": "code",
   "execution_count": null,
   "id": "0d8ac185-d5b3-4478-b489-bdbe9c315640",
   "metadata": {},
   "outputs": [],
   "source": [
    "# Still quite some missings, whereas profiling below suggests it's a highly relevant feature\n",
    "\n",
    "df_train['MS_P_50_median'].isna().sum()"
   ]
  },
  {
   "cell_type": "code",
   "execution_count": null,
   "id": "b16e6b22-a5b7-41e6-b157-094d94e28a03",
   "metadata": {},
   "outputs": [],
   "source": [
    "# Calculate median of MS_P_50_median per zip code and house vs. appartement for imputation\n",
    "\n",
    "df_statbel_prices_selection = pd.merge(df_statbel_prices_selection, df_map_nis_deduplicated, how='left', left_on=['CD_REFNIS'], right_on = ['nis_code'])\n",
    "display(df_statbel_prices_selection)"
   ]
  },
  {
   "cell_type": "code",
   "execution_count": null,
   "id": "eb3fd722-3bc6-4c7f-8f34-50df90ca9807",
   "metadata": {},
   "outputs": [],
   "source": [
    "df_statbel_prices_selection[\"zip_code_first2\"] = df_statbel_prices_selection.zip_code.astype(str).str[:2]\n",
    "median_price_per_zipcode = df_statbel_prices_selection.groupby(['zip_code_first2', 'F_APPARTMENT'], as_index = False)['MS_P_50_median'].median()\n",
    "median_price_per_zipcode.columns = ['zip_code_first2', 'is_appartment', 'med_MS_P_50_median']\n",
    "display(median_price_per_zipcode.head(20))"
   ]
  },
  {
   "cell_type": "code",
   "execution_count": null,
   "id": "6465c412-ca73-48d3-bc07-56e1be4da1dd",
   "metadata": {},
   "outputs": [],
   "source": [
    "median_price_per_zipcode['med_MS_P_50_median'].isna().sum()"
   ]
  },
  {
   "cell_type": "code",
   "execution_count": null,
   "id": "79634a65-a23b-470e-970a-127c55a3af18",
   "metadata": {},
   "outputs": [],
   "source": [
    "df_statbel_prices_selection[df_statbel_prices_selection['CD_REFNIS'] == 13049]"
   ]
  },
  {
   "cell_type": "code",
   "execution_count": null,
   "id": "5bc1fe91-2dd0-4a2b-99b4-b743838c0cac",
   "metadata": {},
   "outputs": [],
   "source": [
    "df_statbel_prices[df_statbel_prices['CD_REFNIS'] == 54007]"
   ]
  },
  {
   "cell_type": "code",
   "execution_count": null,
   "id": "5f61450a-5ce3-4374-be66-206eefe5c1a3",
   "metadata": {},
   "outputs": [],
   "source": [
    "price_lookup_zipcode = median_price_per_zipcode.set_index(\n",
    "    ['zip_code_first2', 'is_appartment']\n",
    ")['med_MS_P_50_median'].to_dict()"
   ]
  },
  {
   "cell_type": "code",
   "execution_count": null,
   "id": "377912b7-644f-477a-a48c-83ca756ada95",
   "metadata": {},
   "outputs": [],
   "source": [
    "df_train[\"zip_code_first2\"] = df_train.zip_code.astype(str).str[:2]\n",
    "\n",
    "df_train[\"MS_P_50_median_imputed\"] = df_train.apply(\n",
    "    lambda row: price_lookup_zipcode.get(\n",
    "        (row[\"zip_code_first2\"], row[\"is_appartment\"]),\n",
    "        row[\"MS_P_50_median\"]\n",
    "    ) if pd.isna(row[\"MS_P_50_median\"]) else row[\"MS_P_50_median\"],\n",
    "    axis=1\n",
    ")"
   ]
  },
  {
   "cell_type": "code",
   "execution_count": null,
   "id": "81f4d46b-76b7-4ed3-a8c4-a4efe81a3542",
   "metadata": {},
   "outputs": [],
   "source": [
    "display(df_train)"
   ]
  },
  {
   "cell_type": "code",
   "execution_count": null,
   "id": "ade04ae7-21f1-4428-aa3a-c7b329ed579d",
   "metadata": {},
   "outputs": [],
   "source": [
    "df_statbel_prices_selection[df_statbel_prices_selection['CD_REFNIS'] == 13049]"
   ]
  },
  {
   "cell_type": "code",
   "execution_count": null,
   "id": "1312fc46-6381-4704-a225-e1c6673a27f3",
   "metadata": {},
   "outputs": [],
   "source": [
    "# Still quite some missings, whereas profiling below suggests it's a highly relevant feature\n",
    "\n",
    "df_train['MS_P_50_median_imputed'].isna().sum()"
   ]
  },
  {
   "cell_type": "code",
   "execution_count": null,
   "id": "2185ec9e-88e6-44f1-a38e-116758edde41",
   "metadata": {},
   "outputs": [],
   "source": [
    "df_train[df_train['MS_P_50_median_imputed'].isna()]"
   ]
  },
  {
   "cell_type": "code",
   "execution_count": null,
   "id": "5ae501d2-aa8c-4dc1-8888-6035edd2df2e",
   "metadata": {},
   "outputs": [],
   "source": []
  },
  {
   "cell_type": "code",
   "execution_count": null,
   "id": "a2f1d334-49c3-4fb1-97a9-339fa3981cb6",
   "metadata": {},
   "outputs": [],
   "source": [
    "df_statbel_prices_selection[\"zip_code_first1\"] = df_statbel_prices_selection.zip_code.astype(str).str[:1]\n",
    "median_price_per_province = df_statbel_prices_selection.groupby(['zip_code_first1', 'F_APPARTMENT'], as_index = False)['MS_P_50_median'].median()\n",
    "median_price_per_province.columns = ['zip_code_first1', 'is_appartment', 'med_MS_P_50_median']\n",
    "display(median_price_per_province.head(20))"
   ]
  },
  {
   "cell_type": "code",
   "execution_count": null,
   "id": "4d886245-30a0-451d-95a2-8191f0dbf332",
   "metadata": {},
   "outputs": [],
   "source": [
    "price_lookup_province = median_price_per_province.set_index(\n",
    "    ['zip_code_first1', 'is_appartment']\n",
    ")['med_MS_P_50_median'].to_dict()"
   ]
  },
  {
   "cell_type": "code",
   "execution_count": null,
   "id": "bc2af538-e7f4-4f16-a538-0dac4120ece3",
   "metadata": {},
   "outputs": [],
   "source": [
    "df_train[\"zip_code_first1\"] = df_train.zip_code.astype(str).str[:1]\n",
    "\n",
    "df_train[\"MS_P_50_median_imputed\"] = df_train.apply(\n",
    "    lambda row: price_lookup_province.get(\n",
    "        (row[\"zip_code_first1\"], row[\"is_appartment\"]),\n",
    "        row[\"MS_P_50_median\"]\n",
    "    ) if pd.isna(row[\"MS_P_50_median_imputed\"]) else row[\"MS_P_50_median_imputed\"],\n",
    "    axis=1\n",
    ")"
   ]
  },
  {
   "cell_type": "code",
   "execution_count": null,
   "id": "cd77d8fc-adab-41ba-8eec-af0625ce51bc",
   "metadata": {},
   "outputs": [],
   "source": [
    "df_train[df_train['MS_P_50_median_imputed'].isna()]"
   ]
  },
  {
   "cell_type": "code",
   "execution_count": null,
   "id": "f4ae3be7-661f-4c8d-a51d-761459508dea",
   "metadata": {},
   "outputs": [],
   "source": []
  },
  {
   "cell_type": "markdown",
   "id": "ca5269bc-639b-4803-bdd6-5ac4bf04250a",
   "metadata": {},
   "source": [
    "## Profile again"
   ]
  },
  {
   "cell_type": "code",
   "execution_count": null,
   "id": "67b9c13f-18a3-4d04-976c-e890a21c0b7f",
   "metadata": {},
   "outputs": [],
   "source": [
    "# Leave out percentiles 25 and 75 for prices per NIS code because of multicollinearity\n",
    "# Leave out row count because it's not available when making a single prediction and has low predictive power (it's usually just 1)\n",
    "\n",
    "df_train_sel = df_train[['bedrooms', 'new_building', 'foto_amount', 'province', 'subtype_regrouped', 'area_missing', 'area_imputed', 'energy_value_missing', 'energy_value_imputed', 'advertiser_count', 'median_price_advertiser_bin', 'MS_TOTAL_TRANSACTIONS', 'MS_P_50_median_imputed', 'price']].drop_duplicates()"
   ]
  },
  {
   "cell_type": "code",
   "execution_count": null,
   "id": "bd4cb16b-442b-4f53-af58-0d0a97cc3bfd",
   "metadata": {},
   "outputs": [],
   "source": [
    "profile_sel = ProfileReport(df_train_sel)"
   ]
  },
  {
   "cell_type": "code",
   "execution_count": null,
   "id": "ec3ae18f-0daa-45c6-b89e-fbce9f1b5db3",
   "metadata": {},
   "outputs": [],
   "source": [
    "profile_sel.to_notebook_iframe()"
   ]
  },
  {
   "cell_type": "code",
   "execution_count": null,
   "id": "95ee6485-31d0-467e-b5a2-e92a2b8841e3",
   "metadata": {},
   "outputs": [],
   "source": [
    "# Duplicate rows?\n",
    "\n",
    "df_train_sel.loc[170]"
   ]
  },
  {
   "cell_type": "code",
   "execution_count": null,
   "id": "a5a318bd-a651-4c77-a497-786bcbe4dbdf",
   "metadata": {},
   "outputs": [],
   "source": [
    "duplicate_row_indices = [30, 32, 33]"
   ]
  },
  {
   "cell_type": "code",
   "execution_count": null,
   "id": "e3b47913-1024-4ea6-80eb-cc7f1fc7af84",
   "metadata": {},
   "outputs": [],
   "source": [
    "print(df_train_sel.index[:10])"
   ]
  },
  {
   "cell_type": "raw",
   "id": "73a3fa2d-5570-4122-b79b-1bd9e0695eeb",
   "metadata": {},
   "source": [
    "# Very few buildings in Vlaams-Brabant?"
   ]
  },
  {
   "cell_type": "code",
   "execution_count": null,
   "id": "b03011f9-651a-4aab-8e76-0805ec841ce2",
   "metadata": {},
   "outputs": [],
   "source": [
    "df_train_sel.iloc[duplicate_row_indices]"
   ]
  },
  {
   "cell_type": "code",
   "execution_count": null,
   "id": "d256614b-77bd-476a-8306-c819d3186215",
   "metadata": {},
   "outputs": [],
   "source": [
    "df_train_sel[\n",
    "    (df_train_sel[\"bedrooms\"] == 3.0) &\n",
    "    (df_train_sel[\"new_building\"] == 1) &\n",
    "    (df_train_sel[\"foto_amount\"] == 7.0) &\n",
    "    (df_train_sel[\"province\"] == \"Oost-Vlaanderen\") &\n",
    "    (df_train_sel[\"subtype_regrouped\"] == \"Duplex\") &\n",
    "    (df_train_sel[\"area_imputed\"] == 110.0)\n",
    "]"
   ]
  },
  {
   "cell_type": "code",
   "execution_count": null,
   "id": "64829082-934a-4095-9725-394bccdd19df",
   "metadata": {},
   "outputs": [],
   "source": [
    "df_train[\n",
    "    (df_train[\"bedrooms\"] == 3.0) &\n",
    "    (df_train[\"new_building\"] == 1) &\n",
    "    (df_train[\"foto_amount\"] == 7.0) &\n",
    "    (df_train[\"province\"] == \"Oost-Vlaanderen\") &\n",
    "    (df_train[\"subtype_regrouped\"] == \"Duplex\") &\n",
    "    (df_train[\"area_imputed\"] == 110.0)\n",
    "].sort_values('added_time')"
   ]
  },
  {
   "cell_type": "code",
   "execution_count": null,
   "id": "3a8f42e4-0b55-43ac-9467-f936799a154a",
   "metadata": {},
   "outputs": [],
   "source": []
  },
  {
   "cell_type": "code",
   "execution_count": null,
   "id": "3ee97ae4-6864-4605-8a82-fef227657c81",
   "metadata": {},
   "outputs": [],
   "source": [
    "df_train[(df_train['advertiser'] == 'C-Nest Groep') & (df_train['postcode'] == 9870) & (df_train['area'] == 150) & (df_train['subtype'] == 'Woning')].sort_values('price')"
   ]
  },
  {
   "cell_type": "code",
   "execution_count": null,
   "id": "67372024-441d-4f2d-a256-57658990983a",
   "metadata": {},
   "outputs": [],
   "source": [
    "df_train.groupby([\"area\", \"bedrooms\", \"postcode\", \"lat\", \"lon\", \"advertiser\", \"foto_amount\", \"subtype\"])['price'].nunique()"
   ]
  },
  {
   "cell_type": "code",
   "execution_count": null,
   "id": "bdcb8b88-9548-46e4-beef-895ec3f9baec",
   "metadata": {},
   "outputs": [],
   "source": [
    "df_train_sel[\n",
    "    (df_train_sel[\"bedrooms\"] == 1) &\n",
    "    (df_train_sel[\"new_building\"] == 1) &\n",
    "    (df_train_sel[\"foto_amount\"] == 25) &\n",
    "    (df_train_sel[\"province\"] == \"Oost-Vlaanderen\") &\n",
    "    (df_train_sel[\"subtype_regrouped\"] == \"Appartement\") &\n",
    "    (df_train_sel[\"area_imputed\"] == 57.1)\n",
    "]"
   ]
  },
  {
   "cell_type": "markdown",
   "id": "ab331581-fb5b-4e72-abad-4c506afccce7",
   "metadata": {},
   "source": [
    "## Final variable selection and encoding"
   ]
  },
  {
   "cell_type": "code",
   "execution_count": null,
   "id": "c5756bf4-7542-4a62-a927-c1d2c2260ce8",
   "metadata": {},
   "outputs": [],
   "source": [
    "X_train_preprocessed = df_train_sel.drop('price', axis = 1)\n",
    "X_train_preprocessed = pd.get_dummies(X_train_preprocessed, columns=['subtype_regrouped', 'province'], drop_first=True)"
   ]
  },
  {
   "cell_type": "code",
   "execution_count": null,
   "id": "3c9d5c44-8c15-481f-a702-bf2ba23a6a2f",
   "metadata": {},
   "outputs": [],
   "source": [
    "display(X_train_preprocessed)"
   ]
  },
  {
   "cell_type": "code",
   "execution_count": null,
   "id": "c6d0b71e-70b0-4dac-8fed-6a8ae7340bb6",
   "metadata": {},
   "outputs": [],
   "source": [
    "y_train_preprocessed = df_train_sel['price']"
   ]
  },
  {
   "cell_type": "code",
   "execution_count": null,
   "id": "586a6515-093a-498d-9e30-df4f9e052fbe",
   "metadata": {},
   "outputs": [],
   "source": [
    "X_train_preprocessed.to_csv(\"split_data/train_features_preprocessed.csv\", index=False)\n",
    "y_train_preprocessed.to_csv(\"split_data/train_target_preprocessed.csv\", index=False)"
   ]
  },
  {
   "cell_type": "code",
   "execution_count": null,
   "id": "52f48788-5c11-48ff-8e4c-4bf37929ee84",
   "metadata": {},
   "outputs": [],
   "source": []
  }
 ],
 "metadata": {
  "kernelspec": {
   "display_name": "Python 3 (ipykernel)",
   "language": "python",
   "name": "python3"
  },
  "language_info": {
   "codemirror_mode": {
    "name": "ipython",
    "version": 3
   },
   "file_extension": ".py",
   "mimetype": "text/x-python",
   "name": "python",
   "nbconvert_exporter": "python",
   "pygments_lexer": "ipython3",
   "version": "3.12.4"
  }
 },
 "nbformat": 4,
 "nbformat_minor": 5
}
