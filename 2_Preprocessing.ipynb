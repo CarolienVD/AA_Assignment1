{
 "cells": [
  {
   "cell_type": "code",
   "execution_count": null,
   "id": "e95f580a-c5f5-49ea-81cb-5747a67cebfc",
   "metadata": {},
   "outputs": [],
   "source": [
    "import pandas as pd\n",
    "from ydata_profiling import ProfileReport"
   ]
  },
  {
   "cell_type": "code",
   "execution_count": null,
   "id": "7888f343-60b6-4dac-ae3a-1aa0ed3490fa",
   "metadata": {},
   "outputs": [],
   "source": [
    "X_train = pd.read_csv(\"split_data/train_features.csv\")\n",
    "y_train = pd.read_csv(\"split_data/train_target.csv\")"
   ]
  },
  {
   "cell_type": "code",
   "execution_count": null,
   "id": "42d9b1a4-6fbd-4de7-af87-198db8009699",
   "metadata": {},
   "outputs": [],
   "source": [
    "df_train = pd.concat([X_train, y_train], axis = 1)"
   ]
  },
  {
   "cell_type": "code",
   "execution_count": null,
   "id": "a33c21d4-27ab-4ba9-b2a1-45ebcfa0b046",
   "metadata": {},
   "outputs": [],
   "source": [
    "profile = ProfileReport(df_train)"
   ]
  },
  {
   "cell_type": "code",
   "execution_count": null,
   "id": "4c18688c-b184-4963-aa32-0744ac2a47e9",
   "metadata": {},
   "outputs": [],
   "source": [
    "profile.to_notebook_iframe()"
   ]
  },
  {
   "cell_type": "code",
   "execution_count": null,
   "id": "4eb32373-0766-49dd-a84d-d43b8a59f2af",
   "metadata": {},
   "outputs": [],
   "source": [
    "pd.crosstab(df_train['subtype'], df_train['is_appartment'], dropna=False)"
   ]
  },
  {
   "cell_type": "code",
   "execution_count": null,
   "id": "79350239-c605-4dfb-af4a-178a9cb6ab5e",
   "metadata": {},
   "outputs": [],
   "source": [
    "subtype_counts = df_train['subtype'].value_counts()\n",
    "min_subtype_count = 10\n",
    "map_infrequent_subtypes = subtype_counts[subtype_counts < min_subtype_count].index\n",
    "df_train['subtype_regrouped'] = df_train['subtype'].apply(lambda x: 'Andere' if x in map_infrequent_subtypes else x)"
   ]
  },
  {
   "cell_type": "code",
   "execution_count": null,
   "id": "3242ea12-13b6-4245-aa49-54bd188f9d98",
   "metadata": {},
   "outputs": [],
   "source": [
    "map_synonyms = {\n",
    "    'Assistentie-appartement': 'Serviceflat',\n",
    "    'Villa-landhuis': 'Villa',\n",
    "    'Moderne villa': 'Villa',\n",
    "    'Eengezinswoning': 'Woning',    \n",
    "    'Herenwoning': 'Herenhuis',\n",
    "    'Dakappartement': 'Penthouse',\n",
    "    'Studio met slaaphoek': 'Studio',\n",
    "    \n",
    "}\n",
    "\n",
    "df_train['subtype_regrouped'] = df_train['subtype_regrouped'].replace(map_synonyms)\n",
    "\n",
    "df_train['subtype_regrouped'].value_counts()"
   ]
  },
  {
   "cell_type": "code",
   "execution_count": null,
   "id": "d6332f9b-e8a7-4809-9d2b-da992ac79109",
   "metadata": {},
   "outputs": [],
   "source": []
  }
 ],
 "metadata": {
  "kernelspec": {
   "display_name": "Python 3 (ipykernel)",
   "language": "python",
   "name": "python3"
  },
  "language_info": {
   "codemirror_mode": {
    "name": "ipython",
    "version": 3
   },
   "file_extension": ".py",
   "mimetype": "text/x-python",
   "name": "python",
   "nbconvert_exporter": "python",
   "pygments_lexer": "ipython3",
   "version": "3.12.4"
  }
 },
 "nbformat": 4,
 "nbformat_minor": 5
}
