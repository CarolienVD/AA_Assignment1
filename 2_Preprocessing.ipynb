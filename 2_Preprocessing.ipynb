{
 "cells": [
  {
   "cell_type": "code",
   "execution_count": null,
   "id": "e95f580a-c5f5-49ea-81cb-5747a67cebfc",
   "metadata": {},
   "outputs": [],
   "source": [
    "import pandas as pd\n",
    "import pickle\n",
    "import missingno\n",
    "from ydata_profiling import ProfileReport"
   ]
  },
  {
   "cell_type": "code",
   "execution_count": null,
   "id": "b10d356d-fadd-4b18-88f6-1b19331be799",
   "metadata": {},
   "outputs": [],
   "source": [
    "pd.set_option('display.max_columns', None) # show all columns in a df"
   ]
  },
  {
   "cell_type": "code",
   "execution_count": null,
   "id": "7888f343-60b6-4dac-ae3a-1aa0ed3490fa",
   "metadata": {},
   "outputs": [],
   "source": [
    "X_train = pd.read_csv(\"split_data/train_features.csv\")\n",
    "y_train = pd.read_csv(\"split_data/train_target.csv\")"
   ]
  },
  {
   "cell_type": "code",
   "execution_count": null,
   "id": "42d9b1a4-6fbd-4de7-af87-198db8009699",
   "metadata": {},
   "outputs": [],
   "source": [
    "df_train = pd.concat([X_train, y_train], axis = 1)"
   ]
  },
  {
   "cell_type": "code",
   "execution_count": null,
   "id": "a33c21d4-27ab-4ba9-b2a1-45ebcfa0b046",
   "metadata": {},
   "outputs": [],
   "source": [
    "profile = ProfileReport(df_train)"
   ]
  },
  {
   "cell_type": "code",
   "execution_count": null,
   "id": "4c18688c-b184-4963-aa32-0744ac2a47e9",
   "metadata": {},
   "outputs": [],
   "source": [
    "profile.to_notebook_iframe()"
   ]
  },
  {
   "cell_type": "markdown",
   "id": "7e9aed64-d4c9-4eb3-b8c1-dfff228b76df",
   "metadata": {},
   "source": [
    "Observations  / remarks:\n",
    "- id: make sure not to include\n",
    "- is_appartment: multicollinearity with subtype -> don't include both\n",
    "- area: high correlation with price! impute missing values based on median per subtype, add column to indicate original was missing\n",
    "- added_time: number of minutes / seconds since the property was added? Can be relevant (very expensive properties might take longer before being sold)\n",
    "- bedrooms: high correlation with area -> price!\n",
    "- new_building: no remarks\n",
    "- postcode: no remarks\n",
    "- lat / lon: impute missings? calculate distance to railway track, airport, highway (noise)?\n",
    "- advertiser: impute missings or treat as separate category?\n",
    "- foto_amount: no remarks\n",
    "- is_promoted: constant -> ignore\n",
    "- subtype: limited number of missings, can be partly imputed based on is_appartment\n",
    "- sticker (new / price drop): only price drop could be relevant for price? recode missing values to third category 'no sticker'\n",
    "- price drop date: relevance?\n",
    "- energy_value: many missings! can be partly imputed using new_building and/or energy_label? note: a missing energy value usually means it's a bad one\n",
    "- energy_label: many missings! multicollinearity with energy_value - value is more precise \n",
    "- province: maybe cross-check with postal code (DQ); use statbel average price per house / appartment data?\n",
    "- price: maximum 999999?\n",
    "\n",
    "- Outliers: Treat or not? DT-based methods can handle them"
   ]
  },
  {
   "cell_type": "markdown",
   "id": "3a97c8c5-b8c2-41c3-ba95-8236162f6b36",
   "metadata": {},
   "source": [
    "## Subtype"
   ]
  },
  {
   "cell_type": "markdown",
   "id": "46778470-2b57-4502-bad2-661bb8d6c395",
   "metadata": {},
   "source": [
    "Observations / remarks:\n",
    "- Missing values are partly houses and partly appartments -> can be assigned accordingly\n",
    "- There are synonyms -> can be grouped together\n",
    "- 'Andere' is never an appartment\n",
    "- Group infrequent levels together? Reduce dimensionality (but: not really necessary for DT-based approach?)"
   ]
  },
  {
   "cell_type": "code",
   "execution_count": null,
   "id": "4eb32373-0766-49dd-a84d-d43b8a59f2af",
   "metadata": {},
   "outputs": [],
   "source": [
    "pd.crosstab(df_train['subtype'], df_train['is_appartment'], dropna=False)"
   ]
  },
  {
   "cell_type": "code",
   "execution_count": null,
   "id": "79350239-c605-4dfb-af4a-178a9cb6ab5e",
   "metadata": {},
   "outputs": [],
   "source": [
    "subtype_counts = df_train['subtype'].value_counts()\n",
    "min_subtype_count = 10\n",
    "map_infrequent_subtypes = subtype_counts[subtype_counts < min_subtype_count].index\n",
    "df_train['subtype_regrouped'] = df_train['subtype'].apply(lambda x: 'Andere' if x in map_infrequent_subtypes else x)"
   ]
  },
  {
   "cell_type": "code",
   "execution_count": null,
   "id": "3242ea12-13b6-4245-aa49-54bd188f9d98",
   "metadata": {},
   "outputs": [],
   "source": [
    "map_synonyms = {\n",
    "    'Assistentie-appartement': 'Serviceflat',\n",
    "    'Villa-landhuis': 'Villa',\n",
    "    'Moderne villa': 'Villa',\n",
    "    'Eengezinswoning': 'Woning',    \n",
    "    'Herenwoning': 'Herenhuis',\n",
    "    'Dakappartement': 'Penthouse',\n",
    "    'Studio met slaaphoek': 'Studio',\n",
    "    \n",
    "}\n",
    "\n",
    "df_train['subtype_regrouped'] = df_train['subtype_regrouped'].replace(map_synonyms)\n",
    "\n",
    "df_train['subtype_regrouped'].value_counts()"
   ]
  },
  {
   "cell_type": "markdown",
   "id": "f629795f-d527-44cf-afb4-c4ba4e743b6a",
   "metadata": {},
   "source": [
    "## Area"
   ]
  },
  {
   "cell_type": "markdown",
   "id": "b0a84a76-22d4-4c8e-85be-4e0796853f7e",
   "metadata": {},
   "source": [
    "Impute area with median value for subtype (regrouped) and province"
   ]
  },
  {
   "cell_type": "code",
   "execution_count": null,
   "id": "6f75dfae-52ec-4235-9410-ddf20eba6d22",
   "metadata": {},
   "outputs": [],
   "source": [
    "df_train['area_missing'] = df_train['area'].isna().astype(int)"
   ]
  },
  {
   "cell_type": "code",
   "execution_count": null,
   "id": "b10171a3-e187-48c8-b390-ea1f9e79471e",
   "metadata": {},
   "outputs": [],
   "source": [
    "median_area = df_train.groupby(['subtype_regrouped', 'province'])['area'].median()\n",
    "\n",
    "median_area.to_pickle('intermediate_data/median_area.pkl')"
   ]
  },
  {
   "cell_type": "code",
   "execution_count": null,
   "id": "cbb9c5e7-ccb3-4c2b-8c95-0dffb3d7f6f7",
   "metadata": {},
   "outputs": [],
   "source": [
    "df_train['area_imputed'] = df_train.apply(\n",
    "    lambda row: median_area.get((row['subtype_regrouped'], row['province']), row['area']) if pd.isna(row['area']) else row['area'],\n",
    "    axis=1\n",
    ")"
   ]
  },
  {
   "cell_type": "code",
   "execution_count": null,
   "id": "bd80b43d-9e20-4df4-93fe-65c7e9e6319e",
   "metadata": {},
   "outputs": [],
   "source": [
    "# df_train['area_imputed'] = df_train['area'].fillna(df_train.groupby(['subtype_regrouped', 'province'])['area'].transform('median'))"
   ]
  },
  {
   "cell_type": "code",
   "execution_count": null,
   "id": "0df53f0b-3bb4-4de4-a8b5-5098eefc66a0",
   "metadata": {},
   "outputs": [],
   "source": [
    "display(df_train[0:10])"
   ]
  },
  {
   "cell_type": "markdown",
   "id": "f236a512-2acd-4bd1-8b0e-b31fbdca5542",
   "metadata": {},
   "source": [
    "## Energy value"
   ]
  },
  {
   "cell_type": "code",
   "execution_count": null,
   "id": "8bbd80a2-453a-4bbb-ac77-647e9d993abc",
   "metadata": {},
   "outputs": [],
   "source": [
    "df_train['energy_label'].value_counts(dropna = False)"
   ]
  },
  {
   "cell_type": "markdown",
   "id": "fce0b59b-acda-47b9-927b-9a318c7c9dfb",
   "metadata": {},
   "source": [
    "New buildings with energy label d, e, f, g -> probably bad DQ?"
   ]
  },
  {
   "cell_type": "code",
   "execution_count": null,
   "id": "304887ce-2417-4740-85f4-7172fd020906",
   "metadata": {},
   "outputs": [],
   "source": [
    "pd.crosstab(df_train['energy_label'], df_train['new_building'], dropna=False)"
   ]
  },
  {
   "cell_type": "code",
   "execution_count": null,
   "id": "ef577b96-d8d5-4f42-b8a4-5ca1264bc9da",
   "metadata": {},
   "outputs": [],
   "source": [
    "Not ok: normally label A corresponds to values 0-100, B to 101-200, etc."
   ]
  },
  {
   "cell_type": "code",
   "execution_count": null,
   "id": "a69b87f6-38d3-4f21-85bc-76a689023f85",
   "metadata": {},
   "outputs": [],
   "source": [
    "df_train['energy_label_regrouped'] = df_train['energy_label'].apply(lambda x: x[0] if isinstance(x, str) and x != 'a+' and x != 'a+' else x)"
   ]
  },
  {
   "cell_type": "code",
   "execution_count": null,
   "id": "7e37c533-c263-4125-a66b-e9ff80a6bb57",
   "metadata": {},
   "outputs": [],
   "source": [
    "median_energy = df_train.groupby(['energy_label_regrouped', 'new_building'])['energy_value'].median()\n",
    "\n",
    "median_energy.to_pickle('intermediate_data/median_energy.pkl')"
   ]
  },
  {
   "cell_type": "code",
   "execution_count": null,
   "id": "e7377011-7af3-4d28-9e45-13e7c56d103a",
   "metadata": {},
   "outputs": [],
   "source": [
    "display(median_energy)"
   ]
  },
  {
   "cell_type": "code",
   "execution_count": null,
   "id": "375f312e-ac57-4e53-8dc8-074cba898cbd",
   "metadata": {},
   "outputs": [],
   "source": [
    "df_train[df_train['energy_value'].isna()]"
   ]
  },
  {
   "cell_type": "code",
   "execution_count": null,
   "id": "230377f9-557f-415e-9b1a-06ed8a2c5ecb",
   "metadata": {},
   "outputs": [],
   "source": []
  },
  {
   "cell_type": "code",
   "execution_count": null,
   "id": "d2500f23-7fe1-4d27-8517-3006991e208f",
   "metadata": {},
   "outputs": [],
   "source": [
    "pd.crosstab(df_train[df_train['energy_value'].isna()]['energy_label_regrouped'], df_train[df_train['energy_value'].isna()]['new_building'], dropna=False)"
   ]
  },
  {
   "cell_type": "code",
   "execution_count": null,
   "id": "234b3374-6fbc-47a6-b23f-9ca995a7437e",
   "metadata": {},
   "outputs": [],
   "source": [
    "df_train['energy_value_missing'] = df_train['energy_value'].isna().astype(int)"
   ]
  },
  {
   "cell_type": "code",
   "execution_count": null,
   "id": "ac0ce92e-c41a-435b-8902-bae2a93c02dc",
   "metadata": {},
   "outputs": [],
   "source": [
    "df_train['energy_value_imputed'] = df_train.apply(\n",
    "    lambda row: median_energy.get((row['energy_label_regrouped'], row['new_building']), row['energy_value']) if pd.isna(row['energy_value']) else row['energy_value'],\n",
    "    axis=1\n",
    ")"
   ]
  },
  {
   "cell_type": "code",
   "execution_count": null,
   "id": "d7d6bbcf-4a17-40db-af0d-e157f14f4f69",
   "metadata": {},
   "outputs": [],
   "source": [
    "df_train['energy_value'].value_counts(dropna = False)"
   ]
  },
  {
   "cell_type": "code",
   "execution_count": null,
   "id": "e4358676-fba7-4ace-81b5-70562aee3129",
   "metadata": {},
   "outputs": [],
   "source": [
    "df_train['energy_value_imputed'].value_counts(dropna = False)"
   ]
  },
  {
   "cell_type": "code",
   "execution_count": null,
   "id": "1cd1e802-e9d8-45aa-9df0-31972c127725",
   "metadata": {},
   "outputs": [],
   "source": []
  }
 ],
 "metadata": {
  "kernelspec": {
   "display_name": "Python 3 (ipykernel)",
   "language": "python",
   "name": "python3"
  },
  "language_info": {
   "codemirror_mode": {
    "name": "ipython",
    "version": 3
   },
   "file_extension": ".py",
   "mimetype": "text/x-python",
   "name": "python",
   "nbconvert_exporter": "python",
   "pygments_lexer": "ipython3",
   "version": "3.12.4"
  }
 },
 "nbformat": 4,
 "nbformat_minor": 5
}
